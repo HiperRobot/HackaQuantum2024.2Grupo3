{
 "cells": [
  {
   "cell_type": "markdown",
   "metadata": {},
   "source": [
    "# Tranforma o LoteInicial.csv em parquets"
   ]
  },
  {
   "cell_type": "code",
   "execution_count": 1,
   "metadata": {},
   "outputs": [],
   "source": [
    "import dask.dataframe as dd\n",
    "# import pandas as pd # descomentar para rodar a versao antiga"
   ]
  },
  {
   "cell_type": "code",
   "execution_count": 3,
   "metadata": {},
   "outputs": [
    {
     "name": "stdout",
     "output_type": "stream",
     "text": [
      "Processamento concluído.\n"
     ]
    }
   ],
   "source": [
    "# Ler o arquivo CSV usando dask\n",
    "df = dd.read_csv('LoteInicial.csv')\n",
    "\n",
    "# Salvar o DataFrame como parquet\n",
    "df.to_parquet('Lote_Inicial_completo.parquet')\n",
    "\n",
    "print(\"226 Parquets gerados na Pasta: arquivo_completo.parquet\")\n"
   ]
  },
  {
   "cell_type": "markdown",
   "metadata": {},
   "source": [
    "### Definindo os chunks pelo número de linhas (Versão antiga: Tempo muito longo para gerar os parquets)"
   ]
  },
  {
   "cell_type": "code",
   "execution_count": null,
   "metadata": {},
   "outputs": [],
   "source": [
    "# # Definindo o tamanho do chunk para x linhas (alterar abaixo para mudar o tamanho do chunk)\n",
    "# chunksize = 20\n",
    "\n",
    "# # Ler o arquivo em chunks e processar cada chunk individualmente\n",
    "# reader = pd.read_csv('LoteInicial.csv', chunksize=chunksize)\n",
    "# for i, chunk in enumerate(reader):\n",
    "#     # Salvar cada chunk como um arquivo parquet separado\n",
    "#     chunk.to_parquet(f'chunk_{i}.parquet')\n",
    "\n",
    "# print(\"Processamento concluído.\")"
   ]
  }
 ],
 "metadata": {
  "kernelspec": {
   "display_name": "base",
   "language": "python",
   "name": "python3"
  },
  "language_info": {
   "codemirror_mode": {
    "name": "ipython",
    "version": 3
   },
   "file_extension": ".py",
   "mimetype": "text/x-python",
   "name": "python",
   "nbconvert_exporter": "python",
   "pygments_lexer": "ipython3",
   "version": "3.12.4"
  }
 },
 "nbformat": 4,
 "nbformat_minor": 2
}
