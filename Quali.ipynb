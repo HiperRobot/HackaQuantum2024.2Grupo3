{
  "cells": [
    {
      "cell_type": "code",
      "execution_count": 4,
      "metadata": {
        "id": "_1E3w06w2KBU"
      },
      "outputs": [],
      "source": [
        "import numpy as np\n",
        "import pandas as pd\n",
        "import matplotlib.pyplot as plt"
      ]
    },
    {
      "cell_type": "code",
      "execution_count": 24,
      "metadata": {},
      "outputs": [
        {
          "name": "stdout",
          "output_type": "stream",
          "text": [
            "  Legal Fund Name Including Umbrella Fund Code Citi Code          ISIN  \\\n",
            "0                               C 11     00F9A      009A  AT0000721402   \n",
            "1                               C 11     00F9A      009A  AT0000721402   \n",
            "2                           R-VIP 50     00F9G      009G  AT0000A0FA24   \n",
            "3                           R-VIP 50     00F9G      009G  AT0000A0FA24   \n",
            "4                          R-VIP 100     00F9I      009I  AT0000A0F9X2   \n",
            "\n",
            "      WKN  Apir Code  SEDOL  As Of Date  ESG Score  ESG Rating  ...  \\\n",
            "0  A0J4QW        NaN    NaN         NaN        NaN         NaN  ...   \n",
            "1  A0J4QW        NaN    NaN         NaN        NaN         NaN  ...   \n",
            "2  A0YBNA        NaN    NaN         NaN        NaN         NaN  ...   \n",
            "3  A0YBNA        NaN    NaN         NaN        NaN         NaN  ...   \n",
            "4  A0YBM7        NaN    NaN         NaN        NaN         NaN  ...   \n",
            "\n",
            "   BIC Of Transfer Agent  Domicile Of Transfer Agent  Marketmaker Name  \\\n",
            "0                    NaN                         NaN               NaN   \n",
            "1                    NaN                         NaN               NaN   \n",
            "2                    NaN                         NaN               NaN   \n",
            "3                    NaN                         NaN               NaN   \n",
            "4                    NaN                         NaN               NaN   \n",
            "\n",
            "   Dissemination Recipient  Global Intermediary Identification Number Of Fund  \\\n",
            "0                      NaN                                BI33Z7.99999.SL.040   \n",
            "1                      NaN                                BI33Z7.99999.SL.040   \n",
            "2                      NaN                                I5ACQV.99999.SL.040   \n",
            "3                      NaN                                I5ACQV.99999.SL.040   \n",
            "4                      NaN                                U5QQTP.99999.SL.040   \n",
            "\n",
            "   Sub-Investment Advisor Name       Auditor Name  Fund Promoter Name  \\\n",
            "0                          NaN  KPMG Austria GmbH            Kathrein   \n",
            "1                          NaN  KPMG Austria GmbH            Kathrein   \n",
            "2                          NaN  KPMG Austria GmbH                 NaN   \n",
            "3                          NaN  KPMG Austria GmbH                 NaN   \n",
            "4                          NaN  KPMG Austria GmbH                 NaN   \n",
            "\n",
            "   EmailAddressOfManCoIdentifier  IsUNPRISignatoryIdentifier  \n",
            "0                            NaN                         NaN  \n",
            "1                            NaN                         NaN  \n",
            "2                            NaN                         NaN  \n",
            "3                            NaN                         NaN  \n",
            "4                            NaN                         NaN  \n",
            "\n",
            "[5 rows x 2206 columns]\n"
          ]
        }
      ],
      "source": [
        "# Definindo o tamanho do chunk para x linhas\n",
        "chunksize = 5\n",
        "reader = pd.read_csv('Quali_20240601.csv', chunksize=chunksize)\n",
        "\n",
        "# Pegando o primeiro chunk\n",
        "chunk = next(reader)\n",
        "\n",
        "# Exibindo o chunk\n",
        "print(chunk)"
      ]
    },
    {
      "cell_type": "code",
      "execution_count": 7,
      "metadata": {},
      "outputs": [
        {
          "name": "stdout",
          "output_type": "stream",
          "text": [
            "['Legal Fund Name Including Umbrella', 'Fund Code', 'Citi Code', 'ISIN', 'WKN', '20000_Financial_Instrument_Identifying_Data', 'EPT Portfolio Name', 'EPT Portfolio or Share Class Currency', 'EPT PRIIPs KID Publication Date', 'EPT Reference Language', 'EPT Valuation Frequency', 'EPT Summary Risk Indicator', 'EPT Is SRI Adjusted', 'EPT Market Risk Measure', 'EPT Credit Risk Measure', 'EPT Recommended Holding Period', 'EPT Number Of Observed Returns', 'EPT Reference Invested Amount', 'EPT Ongoing Costs Management Fees and Other Administrative or Operating Costs', 'EPT Portfolio Transaction Costs', 'EPT Target Market Retail Investor Type', 'EPT Investment Objective', 'EPT Risk Narrative', 'EPT Other Risk Narrative', 'EPT Investment Option', 'Portfolio Turnover Ratio', 'Portfolio Turnover Ratio Date', 'FE Group Name', 'Unit Status', 'Company Contact Address', 'Company Contact E-Mail', 'Company Contact Post Code', 'Company Contact Telephone', 'Company Contact Web Address', 'FE Fund Name', 'Sub Category', 'Main Category', 'Global Fund Classification', 'Has Performance Fee', 'Performance Fee Applied', 'Custodian Fee Applied', 'Subscription Fee Maximum', 'Redemption Fee Maximum', 'Management Fee Applied', 'Management Fee Applied Reference Date', 'Management Fee Maximum', 'TER Excluding Performance Fee', 'TER Excluding Performance Fee Date', 'TER Including Performance Fee', 'TER Including Performance Fee Date', 'Has Ongoing Charges', 'Ongoing Charges', 'Ongoing Charges Date', 'Distribution Fee', 'Has Separate Distribution Fee', 'Distribution Fee Reference Date', 'Minimal Subscription Category', 'Minimal Initial Subscription In Shares', 'Minimal Initial Subscription In Amount', 'Currency Of Minimal Subscription', 'Minimal Subsequent Subscription Category', 'Minimal Subsequent Subscription In Shares', 'Minimal Subsequent Subscription In Amount', 'Maximal Number Of Possible Decimals NAV', 'Settlement Period For Subscription', 'EFAMA Main EFC Category', 'EFAMA Active EFC Classification', 'Is EU Directive Relevant', 'Type Of EU Directive', 'UCITS Version', 'Legal Form', 'Launch Price', 'Launch Price Currency', 'Launch Price Date', 'Listing Currency', 'Valor', 'Share Class Extension', 'Full Share Class Name', 'Abbreviated Share Class Name', 'Valuation Frequency', 'Share Class Distribution Policy', 'Share Class Currency', 'Share Class Lifecycle', 'Share Class Launch Date', 'Investment Status', 'Benchmark', 'SRRI', 'Record Date For SRRI', 'CurrencyHedgeShareClassIdentifier', 'DistributionDeclarationFrequencyIdentifier', 'Asset Class', 'Sector Names', 'Fund Domicile Alpha-2', 'Legal Fund Name Only', 'Fund Launch Date', 'Investment Objective in English', 'Fund Currency', 'Open-ended Or Closed-ended Fund Structure', 'CurrencyHedgePortfolioIdentifier', 'Domicile', 'Has Umbrella', 'Umbrella', 'Domicile Of Umbrella', 'Fund Group Name', 'ManCo', 'Domicile Of ManCo', 'Fund Administrator Name', 'Custodian Bank Name', 'Portfolio Managing Company Name', 'Transfer Agent Name', 'Auditor Name', 'Fund Promoter Name', 'Exit Charge', 'Is ETF']\n"
          ]
        }
      ],
      "source": [
        "with open(\"colunas_especificas.txt\", 'r') as fin:\n",
        "    cols = fin.readlines()\n",
        "    cols_especificas = []\n",
        "    for c in cols:\n",
        "        cols_especificas.append(c.replace(\"\\n\",\"\"))\n",
        "\n",
        "\n",
        "cols_especificas"
      ]
    },
    {
      "cell_type": "code",
      "execution_count": null,
      "metadata": {},
      "outputs": [],
      "source": [
        "# Função para comparar mudanças em chunks\n",
        "\n",
        "# Função para comparar mudanças em chunks\n",
        "def compare_chunks(file1, file2, identifiers, columns_to_compare):\n",
        "    changes = []\n",
        "\n",
        "    # Ler os arquivos CSV em chunks\n",
        "    reader1 = pd.read_csv(file1, chunksize=chunksize)\n",
        "    reader2 = pd.read_csv(file2, chunksize=chunksize)\n",
        "    #df = pd.concat(reader1, reader2,ignore_index=True)\n",
        "    # Iterar sobre os chunks de ambos os arquivos\n",
        "    for chunk1, chunk2 in zip(reader1, reader2):\n",
        "        # Converta tipos para garantir que são consistentes\n",
        "        for identifier in identifiers:\n",
        "            chunk1[identifier] = chunk1[identifier].astype(str)\n",
        "            chunk2[identifier] = chunk2[identifier].astype(str)\n",
        "\n",
        "        # Juntar os DataFrames com base nos identificadores\n",
        "        merged_df = pd.merge(chunk1, chunk2, on=identifiers, suffixes=('_old', '_new'))\n",
        "\n",
        "        # Analisar mudanças nas colunas específicas\n",
        "        for column in columns_to_compare:\n",
        "            old_column = f\"{column}_old\"\n",
        "            new_column = f\"{column}_new\"\n",
        "\n",
        "            # Verifique se as colunas existem\n",
        "            if old_column not in merged_df.columns or new_column not in merged_df.columns:\n",
        "                continue\n",
        "\n",
        "            # Identifica onde há mudanças\n",
        "            mask = merged_df[old_column] != merged_df[new_column]\n",
        "            if mask.any():\n",
        "                # Adiciona as mudanças ao resultado\n",
        "                changes.append(merged_df.loc[mask, [*identifiers, old_column, new_column]])\n",
        "\n",
        "    # Retorna todas as mudanças em um DataFrame\n",
        "    return pd.concat(changes, ignore_index=True) if changes else pd.DataFrame()\n",
        "\n",
        "# Defina os arquivos CSV e as colunas\n",
        "file1 = 'Quali_20240601.csv'\n",
        "file2 = 'Quali_20240602.csv'\n",
        "identifiers = ['ISIN', 'Citi Code', 'EPT Reference Language']  # Certifique-se de que os nomes estejam corretos\n",
        "columns_to_compare = cols_especificas  # As colunas que você deseja comparar\n",
        "\n",
        "# Chamar a função para comparar os chunks\n",
        "changes_df = compare_chunks(file1, file2, identifiers, columns_to_compare)\n",
        "\n",
        "# Exibir mudanças\n",
        "if not changes_df.empty:\n",
        "    print(\"Mudanças encontradas:\")\n",
        "    print(changes_df)\n",
        "else:\n",
        "    print(\"Nenhuma mudança encontrada.\")\n",
        "\n",
        "# Salvar mudanças em um novo CSV, se necessário\n",
        "# changes_df.to_csv('mudancas.csv', index=False)\n",
        "\n",
        "\n",
        "\n",
        "# Defina os arquivos CSV e as colunas\n",
        "file1 = 'Quali_20240601.csv'\n",
        "file2 = 'Quali_20240602.csv'\n",
        "identifiers = ['ISIN', 'Citi Code', 'EPT Reference Language']\n",
        "columns_to_compare = cols_especificas  \n",
        "\n",
        "# Chamar a função para comparar os chunks\n",
        "changes_df = compare_chunks(file1, file2, identifiers, columns_to_compare)\n",
        "\n",
        "# Exibir mudanças\n",
        "if not changes_df.empty:\n",
        "    print(\"Mudanças encontradas:\")\n",
        "    print(changes_df)\n",
        "else:\n",
        "    print(\"Nenhuma mudança encontrada.\")\n",
        "\n",
        "# Salvar mudanças em um novo CSV, se necessário\n",
        "changes_df.to_csv('mudancas.csv', index=False)\n"
      ]
    }
  ],
  "metadata": {
    "colab": {
      "provenance": []
    },
    "kernelspec": {
      "display_name": "base",
      "language": "python",
      "name": "python3"
    },
    "language_info": {
      "codemirror_mode": {
        "name": "ipython",
        "version": 3
      },
      "file_extension": ".py",
      "mimetype": "text/x-python",
      "name": "python",
      "nbconvert_exporter": "python",
      "pygments_lexer": "ipython3",
      "version": "3.12.4"
    }
  },
  "nbformat": 4,
  "nbformat_minor": 0
}
