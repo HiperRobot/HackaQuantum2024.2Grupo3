{
 "cells": [
  {
   "cell_type": "code",
   "execution_count": 1,
   "metadata": {},
   "outputs": [],
   "source": [
    "import numpy as np\n",
    "import pandas as pd\n",
    "import sqlalchemy as db\n"
   ]
  },
  {
   "cell_type": "code",
   "execution_count": 2,
   "metadata": {},
   "outputs": [],
   "source": [
    "n_arquivos = 30\n",
    "\n",
    "# Criar uma lista vazia para armazenar os DataFrames\n",
    "dados_fundos = []\n",
    "\n",
    "\n",
    "for i in range(n_arquivos):\n",
    "    \n",
    "    # Carregar o CSV em um DataFrame\n",
    "    df = pd.read_csv(f\"Quanti_202406{i+1:02d}.csv\")\n",
    "    \n",
    "    \n",
    "    # Adicionar o DataFrame à lista\n",
    "    dados_fundos.append(df)\n",
    "\n",
    "# Concatenar todos os DataFrames em um único DataFrame\n",
    "dados_concatenados = pd.concat(dados_fundos, ignore_index=True)\n",
    "\n",
    "# Salvar o DataFrame concatenado em formato Parquet\n",
    "dados_concatenados.to_parquet(\"dados_concatenados.parquet\", index=False)"
   ]
  },
  {
   "cell_type": "code",
   "execution_count": 3,
   "metadata": {},
   "outputs": [
    {
     "data": {
      "text/plain": [
       "Index(['ISIN', 'AuM Fund', 'AuM Fund Date', 'AuM Share Class',\n",
       "       'AuM Share Class Date', 'Bid NAV', 'Bid NAV Date', 'Ask NAV',\n",
       "       'Ask NAV Date', 'Valuation NAV', 'Valuation NAV Date',\n",
       "       'Transaction NAV', 'Transaction NAV Date', 'NoS Fund Date',\n",
       "       'NoS Share Class', 'NoS Share Class Date', 'NoS Fund', 'FE Bid',\n",
       "       'FE Bid Date', 'FE Offer', 'FE Offer Date', 'FE NAV', 'FE NAV Date',\n",
       "       'FE Generic NAV', 'FE Generic NAV Date', 'FE AUM Fund Date',\n",
       "       'FE AUM Share Class', 'FE AUM Share Class Date', 'FE NOS Fund',\n",
       "       'FE NOS Fund Date', 'FE NOS Share Class', 'FE NOS Share Class Date',\n",
       "       'Citi Code', 'Fund Code', 'Dynamic Currency', 'FE AUM Fund', 'FE Mid',\n",
       "       'FE Mid Date', 'FE Total Return NAV', 'FE Total Return NAV Date',\n",
       "       'Amount of Shares Redeemed Fund',\n",
       "       'Amount of Shares Redeemed Share Class',\n",
       "       'Amount of Shares Subscribed Fund',\n",
       "       'Amount of Shares Subscribed Share Class',\n",
       "       'Number of Shares Redeemed Fund',\n",
       "       'Number of Shares Redeemed Share Class',\n",
       "       'Number of Shares Subscribed Fund',\n",
       "       'Number of Shares Subscribed Share Class'],\n",
       "      dtype='object')"
      ]
     },
     "execution_count": 3,
     "metadata": {},
     "output_type": "execute_result"
    }
   ],
   "source": [
    "dados_concatenados.columns"
   ]
  },
  {
   "cell_type": "code",
   "execution_count": 4,
   "metadata": {},
   "outputs": [],
   "source": [
    "dados_concatenados = dados_concatenados.dropna(subset=[\"ISIN\"])"
   ]
  },
  {
   "cell_type": "code",
   "execution_count": 5,
   "metadata": {},
   "outputs": [],
   "source": [
    "#Prioritário\n",
    "df1 = dados_concatenados[[\"ISIN\",\"Valuation NAV\",\"Valuation NAV Date\"]].sort_values(by=[\"ISIN\",\"Valuation NAV Date\"])\n",
    "df2 = dados_concatenados[[\"ISIN\",\"FE Bid\",'FE Bid Date']].sort_values(by=[\"ISIN\",\"FE Bid Date\"])\n",
    "df3 = dados_concatenados[[\"ISIN\",\"FE Generic NAV\",\"FE Generic NAV Date\"]].sort_values(by=[\"ISIN\",\"FE Generic NAV Date\"])\n",
    "df4 = dados_concatenados[[\"ISIN\",\"FE NAV\",\"FE NAV Date\"]].sort_values(by=[\"ISIN\",\"FE NAV Date\"])\n",
    "df5 = dados_concatenados[[\"ISIN\",\"Transaction NAV\",\"Transaction NAV Date\"]].sort_values(by=[\"ISIN\",\"Transaction NAV Date\"])\n",
    "fields = [\"Valuation NAV\",\"FE BID\",\"FE Generic NAV\",\"FE NAV\",\"Transaction NAV\"]"
   ]
  },
  {
   "cell_type": "code",
   "execution_count": 6,
   "metadata": {},
   "outputs": [],
   "source": [
    "#Extras\n",
    "df6 = dados_concatenados[[\"ISIN\",\"AuM Fund\",\"AuM Fund Date\"]].sort_values(by=[\"ISIN\",\"AuM Fund Date\"]),\n",
    "df7 = dados_concatenados[[\"ISIN\",\"AuM Share Class\",\"AuM Share Class Date\"]].sort_values(by=[\"ISIN\",\"AuM Share Class Date\"]),\n",
    "df8 = dados_concatenados[[\"ISIN\",\"Ask NAV\",\"Ask NAV Date\"]].sort_values(by=[\"ISIN\",\"Ask NAV Date\"]),\n",
    "df9 = dados_concatenados[[\"ISIN\",\"Bid NAV\",\"Bid NAV Date\"]].sort_values(by=[\"ISIN\",\"Bid NAV Date\"]),\n",
    "df10 = dados_concatenados[[\"ISIN\",\"NoS Fund\",\"NoS Fund Date\"]].sort_values(by=[\"ISIN\",\"NoS Fund Date\"]),\n",
    "df11 = dados_concatenados[[\"ISIN\",\"NoS Share Class\",\"NoS Share Class Date\"]].sort_values(by=[\"ISIN\",\"NoS Share Class Date\"]),\n",
    "df12 = dados_concatenados[[\"ISIN\",\"FE Offer\",\"FE Offer Date\"]].sort_values(by=[\"ISIN\",\"FE Offer Date\"]),\n",
    "df13 = dados_concatenados[[\"ISIN\",\"FE AUM Fund\",\"FE AUM Fund Date\"]].sort_values(by=[\"ISIN\",\"FE AUM Fund Date\"]),\n",
    "df14 = dados_concatenados[[\"ISIN\",\"FE AUM Share Class\",\"FE AUM Share Class Date\"]].sort_values(by=[\"ISIN\",\"FE AUM Share Class Date\"]),\n",
    "df15 = dados_concatenados[[\"ISIN\",\"FE NOS Fund\",\"FE NOS Fund Date\"]].sort_values(by=[\"ISIN\",\"FE NOS Fund Date\"]),\n",
    "df16 = dados_concatenados[[\"ISIN\",\"FE NOS Share Class\",\"FE NOS Share Class Date\"]].sort_values(by=[\"ISIN\",\"FE NOS Share Class Date\"]),\n",
    "\n",
    "fields = [\"Valuation NAV\",\"FE BID\",\"FE Generic NAV\",\"FE NAV\",\"Transaction NAV\",\"AuM Fund\",\"AuM Share Class\",\"Ask NAV\",\n",
    "          \"Bid NAV\",\"NoS Fund\",\"NoS Share Class\",\"FE Offer\",\"FE AUM Fund\",\"FE AUM Share Class\",\"FE NOS Fund\",\"FE NOS Share Class\"],\n",
    "ldf = [df1,df2,df3,df4,df5,df6,df7,df8,df9,df10,df11,df12,df13,df14,df15,df16]"
   ]
  },
  {
   "cell_type": "code",
   "execution_count": 7,
   "metadata": {},
   "outputs": [],
   "source": [
    "isins = dados_concatenados[\"ISIN\"].unique()"
   ]
  },
  {
   "cell_type": "code",
   "execution_count": 8,
   "metadata": {},
   "outputs": [],
   "source": [
    "ldf = [df1,df2,df3,df4,df5]"
   ]
  },
  {
   "cell_type": "code",
   "execution_count": 9,
   "metadata": {},
   "outputs": [],
   "source": [
    "col_names = [\"ISIN\",\"data_valor_antigo\",\"data_valor_novo\",\"campo\",\"valor antigo\",\"valor novo\" ]\n",
    "new_df = pd.DataFrame(columns=col_names)"
   ]
  },
  {
   "cell_type": "code",
   "execution_count": null,
   "metadata": {},
   "outputs": [
    {
     "name": "stderr",
     "output_type": "stream",
     "text": [
      "C:\\Users\\thiag\\AppData\\Local\\Temp\\ipykernel_2184\\43570930.py:12: FutureWarning: Series.__getitem__ treating keys as positions is deprecated. In a future version, integer keys will always be treated as labels (consistent with DataFrame behavior). To access a value by position, use `ser.iloc[pos]`\n",
      "  if row[1] != next_row[1]:\n",
      "C:\\Users\\thiag\\AppData\\Local\\Temp\\ipykernel_2184\\43570930.py:16: FutureWarning: Series.__getitem__ treating keys as positions is deprecated. In a future version, integer keys will always be treated as labels (consistent with DataFrame behavior). To access a value by position, use `ser.iloc[pos]`\n",
      "  \"data_valor_antigo\": row[2],\n",
      "C:\\Users\\thiag\\AppData\\Local\\Temp\\ipykernel_2184\\43570930.py:17: FutureWarning: Series.__getitem__ treating keys as positions is deprecated. In a future version, integer keys will always be treated as labels (consistent with DataFrame behavior). To access a value by position, use `ser.iloc[pos]`\n",
      "  \"data_valor_novo\": next_row[2],\n",
      "C:\\Users\\thiag\\AppData\\Local\\Temp\\ipykernel_2184\\43570930.py:18: FutureWarning: Series.__getitem__ treating keys as positions is deprecated. In a future version, integer keys will always be treated as labels (consistent with DataFrame behavior). To access a value by position, use `ser.iloc[pos]`\n",
      "  \"valor_antigo\": row[1],\n",
      "C:\\Users\\thiag\\AppData\\Local\\Temp\\ipykernel_2184\\43570930.py:19: FutureWarning: Series.__getitem__ treating keys as positions is deprecated. In a future version, integer keys will always be treated as labels (consistent with DataFrame behavior). To access a value by position, use `ser.iloc[pos]`\n",
      "  \"valor_novo\": next_row[1]\n"
     ]
    }
   ],
   "source": [
    "# Inicializa a lista de DataFrames e outras variáveis\n",
    "campo = 0\n",
    "new_df_list = []  # Lista para armazenar os DataFrames temporários\n",
    "\n",
    "for df in ldf:\n",
    "    for isin in isins:\n",
    "        actual = df[df[\"ISIN\"] == isin]\n",
    "\n",
    "        for j in range(len(actual) - 1):\n",
    "            row = actual.iloc[j]\n",
    "            next_row = actual.iloc[j + 1]\n",
    "            if row[1] != next_row[1]:\n",
    "                new_df_list.append({\n",
    "                    \"ISIN\": row[\"ISIN\"],\n",
    "                    \"campo\": fields[campo],\n",
    "                    \"data_valor_antigo\": row[2],\n",
    "                    \"data_valor_novo\": next_row[2],\n",
    "                    \"valor_antigo\": row[1],\n",
    "                    \"valor_novo\": next_row[1]\n",
    "                })\n",
    "\n",
    "    campo += 1\n",
    "\n",
    "# Concatena todos os dicionários em um único DataFrame\n",
    "new_df = pd.DataFrame(new_df_list)\n"
   ]
  },
  {
   "cell_type": "code",
   "execution_count": 32,
   "metadata": {},
   "outputs": [
    {
     "ename": "KeyboardInterrupt",
     "evalue": "",
     "output_type": "error",
     "traceback": [
      "\u001b[1;31m---------------------------------------------------------------------------\u001b[0m",
      "\u001b[1;31mKeyboardInterrupt\u001b[0m                         Traceback (most recent call last)",
      "\u001b[1;32m<ipython-input-32-3f8e4221cab8>\u001b[0m in \u001b[0;36m<module>\u001b[1;34m\u001b[0m\n\u001b[0;32m     13\u001b[0m \u001b[1;33m\u001b[0m\u001b[0m\n\u001b[0;32m     14\u001b[0m         \u001b[1;32mif\u001b[0m \u001b[0mvalor_antigo\u001b[0m \u001b[1;33m!=\u001b[0m \u001b[0mvalor_novo\u001b[0m\u001b[1;33m:\u001b[0m  \u001b[1;31m# Detectar mudança no valor\u001b[0m\u001b[1;33m\u001b[0m\u001b[1;33m\u001b[0m\u001b[0m\n\u001b[1;32m---> 15\u001b[1;33m             new_df = new_df.append({\n\u001b[0m\u001b[0;32m     16\u001b[0m                 \u001b[1;34m\"ISIN\"\u001b[0m\u001b[1;33m:\u001b[0m \u001b[0misin\u001b[0m\u001b[1;33m,\u001b[0m\u001b[1;33m\u001b[0m\u001b[1;33m\u001b[0m\u001b[0m\n\u001b[0;32m     17\u001b[0m                 \u001b[1;34m\"data_valor_antigo\"\u001b[0m\u001b[1;33m:\u001b[0m \u001b[0mdata_antiga\u001b[0m\u001b[1;33m,\u001b[0m\u001b[1;33m\u001b[0m\u001b[1;33m\u001b[0m\u001b[0m\n",
      "\u001b[1;32mc:\\Users\\leomi\\Anaconda3\\lib\\site-packages\\pandas\\core\\frame.py\u001b[0m in \u001b[0;36mappend\u001b[1;34m(self, other, ignore_index, verify_integrity, sort)\u001b[0m\n\u001b[0;32m   7741\u001b[0m             \u001b[0mscalar\u001b[0m\u001b[1;33m.\u001b[0m \u001b[0mUsed\u001b[0m \u001b[0mto\u001b[0m \u001b[0mmerge\u001b[0m \u001b[0mthe\u001b[0m \u001b[0mtwo\u001b[0m \u001b[0mdataframes\u001b[0m \u001b[0mcolumn\u001b[0m \u001b[0mby\u001b[0m \u001b[0mcolumns\u001b[0m\u001b[1;33m.\u001b[0m\u001b[1;33m\u001b[0m\u001b[1;33m\u001b[0m\u001b[0m\n\u001b[0;32m   7742\u001b[0m         \u001b[0mfill_value\u001b[0m \u001b[1;33m:\u001b[0m \u001b[0mscalar\u001b[0m \u001b[0mvalue\u001b[0m\u001b[1;33m,\u001b[0m \u001b[0mdefault\u001b[0m \u001b[1;32mNone\u001b[0m\u001b[1;33m\u001b[0m\u001b[1;33m\u001b[0m\u001b[0m\n\u001b[1;32m-> 7743\u001b[1;33m             \u001b[0mThe\u001b[0m \u001b[0mvalue\u001b[0m \u001b[0mto\u001b[0m \u001b[0mfill\u001b[0m \u001b[0mNaNs\u001b[0m \u001b[1;32mwith\u001b[0m \u001b[0mprior\u001b[0m \u001b[0mto\u001b[0m \u001b[0mpassing\u001b[0m \u001b[0many\u001b[0m \u001b[0mcolumn\u001b[0m \u001b[0mto\u001b[0m \u001b[0mthe\u001b[0m\u001b[1;33m\u001b[0m\u001b[1;33m\u001b[0m\u001b[0m\n\u001b[0m\u001b[0;32m   7744\u001b[0m             \u001b[0mmerge\u001b[0m \u001b[0mfunc\u001b[0m\u001b[1;33m.\u001b[0m\u001b[1;33m\u001b[0m\u001b[1;33m\u001b[0m\u001b[0m\n\u001b[0;32m   7745\u001b[0m         \u001b[0moverwrite\u001b[0m \u001b[1;33m:\u001b[0m \u001b[0mbool\u001b[0m\u001b[1;33m,\u001b[0m \u001b[0mdefault\u001b[0m \u001b[1;32mTrue\u001b[0m\u001b[1;33m\u001b[0m\u001b[1;33m\u001b[0m\u001b[0m\n",
      "\u001b[1;32mc:\\Users\\leomi\\Anaconda3\\lib\\site-packages\\pandas\\core\\reshape\\concat.py\u001b[0m in \u001b[0;36mconcat\u001b[1;34m(objs, axis, join, ignore_index, keys, levels, names, verify_integrity, sort, copy)\u001b[0m\n\u001b[0;32m    272\u001b[0m \u001b[1;33m\u001b[0m\u001b[0m\n\u001b[0;32m    273\u001b[0m     \u001b[0mCombine\u001b[0m \u001b[0mtwo\u001b[0m\u001b[0;31m \u001b[0m\u001b[0;31m`\u001b[0m\u001b[0;31m`\u001b[0m\u001b[0mDataFrame\u001b[0m\u001b[0;31m`\u001b[0m\u001b[0;31m`\u001b[0m \u001b[0mobjects\u001b[0m \u001b[1;32mwith\u001b[0m \u001b[0midentical\u001b[0m \u001b[0mcolumns\u001b[0m\u001b[1;33m.\u001b[0m\u001b[1;33m\u001b[0m\u001b[1;33m\u001b[0m\u001b[0m\n\u001b[1;32m--> 274\u001b[1;33m \u001b[1;33m\u001b[0m\u001b[0m\n\u001b[0m\u001b[0;32m    275\u001b[0m     >>> df1 = pd.DataFrame([['a', 1], ['b', 2]],\n\u001b[0;32m    276\u001b[0m     ...                    columns=['letter', 'number'])\n",
      "\u001b[1;32mc:\\Users\\leomi\\Anaconda3\\lib\\site-packages\\pandas\\core\\reshape\\concat.py\u001b[0m in \u001b[0;36m__init__\u001b[1;34m(self, objs, axis, join, keys, levels, names, ignore_index, verify_integrity, copy, sort)\u001b[0m\n\u001b[0;32m    360\u001b[0m         \u001b[0ma\u001b[0m   \u001b[0mb\u001b[0m\u001b[1;33m\u001b[0m\u001b[1;33m\u001b[0m\u001b[0m\n\u001b[0;32m    361\u001b[0m     \u001b[1;36m0\u001b[0m   \u001b[1;36m1\u001b[0m   \u001b[1;36m2\u001b[0m\u001b[1;33m\u001b[0m\u001b[1;33m\u001b[0m\u001b[0m\n\u001b[1;32m--> 362\u001b[1;33m     \u001b[1;36m1\u001b[0m   \u001b[1;36m3\u001b[0m   \u001b[1;36m4\u001b[0m\u001b[1;33m\u001b[0m\u001b[1;33m\u001b[0m\u001b[0m\n\u001b[0m\u001b[0;32m    363\u001b[0m     \"\"\"\n\u001b[0;32m    364\u001b[0m     \u001b[1;32mif\u001b[0m \u001b[0mcopy\u001b[0m \u001b[1;32mis\u001b[0m \u001b[1;32mNone\u001b[0m\u001b[1;33m:\u001b[0m\u001b[1;33m\u001b[0m\u001b[1;33m\u001b[0m\u001b[0m\n",
      "\u001b[1;32mc:\\Users\\leomi\\Anaconda3\\lib\\site-packages\\pandas\\core\\generic.py\u001b[0m in \u001b[0;36m_consolidate\u001b[1;34m(self, inplace)\u001b[0m\n\u001b[0;32m   5230\u001b[0m         \u001b[0mComodo\u001b[0m \u001b[0mDragon\u001b[0m     \u001b[0mmissing\u001b[0m       \u001b[0mmissing\u001b[0m\u001b[1;33m\u001b[0m\u001b[1;33m\u001b[0m\u001b[0m\n\u001b[0;32m   5231\u001b[0m         \u001b[0mIE10\u001b[0m                  \u001b[1;36m404\u001b[0m          \u001b[1;36m0.08\u001b[0m\u001b[1;33m\u001b[0m\u001b[1;33m\u001b[0m\u001b[0m\n\u001b[1;32m-> 5232\u001b[1;33m         \u001b[0mChrome\u001b[0m                \u001b[1;36m200\u001b[0m          \u001b[1;36m0.02\u001b[0m\u001b[1;33m\u001b[0m\u001b[1;33m\u001b[0m\u001b[0m\n\u001b[0m\u001b[0;32m   5233\u001b[0m \u001b[1;33m\u001b[0m\u001b[0m\n\u001b[0;32m   5234\u001b[0m         \u001b[0mWe\u001b[0m \u001b[0mcan\u001b[0m \u001b[0malso\u001b[0m \u001b[0mreindex\u001b[0m \u001b[0mthe\u001b[0m \u001b[0mcolumns\u001b[0m\u001b[1;33m.\u001b[0m\u001b[1;33m\u001b[0m\u001b[1;33m\u001b[0m\u001b[0m\n",
      "\u001b[1;32mc:\\Users\\leomi\\Anaconda3\\lib\\site-packages\\pandas\\core\\generic.py\u001b[0m in \u001b[0;36m_consolidate_inplace\u001b[1;34m(self)\u001b[0m\n\u001b[0;32m   5212\u001b[0m \u001b[1;33m\u001b[0m\u001b[0m\n\u001b[0;32m   5213\u001b[0m         \u001b[0mWe\u001b[0m \u001b[0mcan\u001b[0m \u001b[0mfill\u001b[0m \u001b[1;32min\u001b[0m \u001b[0mthe\u001b[0m \u001b[0mmissing\u001b[0m \u001b[0mvalues\u001b[0m \u001b[0mby\u001b[0m \u001b[0mpassing\u001b[0m \u001b[0ma\u001b[0m \u001b[0mvalue\u001b[0m \u001b[0mto\u001b[0m\u001b[1;33m\u001b[0m\u001b[1;33m\u001b[0m\u001b[0m\n\u001b[1;32m-> 5214\u001b[1;33m         \u001b[0mthe\u001b[0m \u001b[0mkeyword\u001b[0m\u001b[0;31m \u001b[0m\u001b[0;31m`\u001b[0m\u001b[0;31m`\u001b[0m\u001b[0mfill_value\u001b[0m\u001b[0;31m`\u001b[0m\u001b[0;31m`\u001b[0m\u001b[1;33m.\u001b[0m \u001b[0mBecause\u001b[0m \u001b[0mthe\u001b[0m \u001b[0mindex\u001b[0m \u001b[1;32mis\u001b[0m \u001b[1;32mnot\u001b[0m \u001b[0mmonotonically\u001b[0m\u001b[1;33m\u001b[0m\u001b[1;33m\u001b[0m\u001b[0m\n\u001b[0m\u001b[0;32m   5215\u001b[0m         \u001b[0mincreasing\u001b[0m \u001b[1;32mor\u001b[0m \u001b[0mdecreasing\u001b[0m\u001b[1;33m,\u001b[0m \u001b[0mwe\u001b[0m \u001b[0mcannot\u001b[0m \u001b[0muse\u001b[0m \u001b[0marguments\u001b[0m \u001b[0mto\u001b[0m \u001b[0mthe\u001b[0m \u001b[0mkeyword\u001b[0m\u001b[1;33m\u001b[0m\u001b[1;33m\u001b[0m\u001b[0m\n\u001b[0;32m   5216\u001b[0m         \u001b[0;31m`\u001b[0m\u001b[0;31m`\u001b[0m\u001b[0mmethod\u001b[0m\u001b[0;31m`\u001b[0m\u001b[0;31m`\u001b[0m \u001b[0mto\u001b[0m \u001b[0mfill\u001b[0m \u001b[0mthe\u001b[0m\u001b[0;31m \u001b[0m\u001b[0;31m`\u001b[0m\u001b[0;31m`\u001b[0m\u001b[0mNaN\u001b[0m\u001b[0;31m`\u001b[0m\u001b[0;31m`\u001b[0m \u001b[0mvalues\u001b[0m\u001b[1;33m.\u001b[0m\u001b[1;33m\u001b[0m\u001b[1;33m\u001b[0m\u001b[0m\n",
      "\u001b[1;32mc:\\Users\\leomi\\Anaconda3\\lib\\site-packages\\pandas\\core\\generic.py\u001b[0m in \u001b[0;36m_protect_consolidate\u001b[1;34m(self, f)\u001b[0m\n\u001b[0;32m   5201\u001b[0m         \u001b[0mrecords\u001b[0m \u001b[1;32min\u001b[0m \u001b[0mthe\u001b[0m \u001b[0mdataframe\u001b[0m \u001b[0mare\u001b[0m \u001b[0massigned\u001b[0m\u001b[0;31m \u001b[0m\u001b[0;31m`\u001b[0m\u001b[0;31m`\u001b[0m\u001b[0mNaN\u001b[0m\u001b[0;31m`\u001b[0m\u001b[0;31m`\u001b[0m\u001b[1;33m.\u001b[0m\u001b[1;33m\u001b[0m\u001b[1;33m\u001b[0m\u001b[0m\n\u001b[0;32m   5202\u001b[0m \u001b[1;33m\u001b[0m\u001b[0m\n\u001b[1;32m-> 5203\u001b[1;33m         >>> new_index = ['Safari', 'Iceweasel', 'Comodo Dragon', 'IE10',\n\u001b[0m\u001b[0;32m   5204\u001b[0m         ...              'Chrome']\n\u001b[0;32m   5205\u001b[0m         \u001b[1;33m>>\u001b[0m\u001b[1;33m>\u001b[0m \u001b[0mdf\u001b[0m\u001b[1;33m.\u001b[0m\u001b[0mreindex\u001b[0m\u001b[1;33m(\u001b[0m\u001b[0mnew_index\u001b[0m\u001b[1;33m)\u001b[0m\u001b[1;33m\u001b[0m\u001b[1;33m\u001b[0m\u001b[0m\n",
      "\u001b[1;32mc:\\Users\\leomi\\Anaconda3\\lib\\site-packages\\pandas\\core\\generic.py\u001b[0m in \u001b[0;36mf\u001b[1;34m()\u001b[0m\n\u001b[0;32m   5210\u001b[0m         \u001b[0mIE10\u001b[0m                 \u001b[1;36m404.0\u001b[0m           \u001b[1;36m0.08\u001b[0m\u001b[1;33m\u001b[0m\u001b[1;33m\u001b[0m\u001b[0m\n\u001b[0;32m   5211\u001b[0m         \u001b[0mChrome\u001b[0m               \u001b[1;36m200.0\u001b[0m           \u001b[1;36m0.02\u001b[0m\u001b[1;33m\u001b[0m\u001b[1;33m\u001b[0m\u001b[0m\n\u001b[1;32m-> 5212\u001b[1;33m \u001b[1;33m\u001b[0m\u001b[0m\n\u001b[0m\u001b[0;32m   5213\u001b[0m         \u001b[0mWe\u001b[0m \u001b[0mcan\u001b[0m \u001b[0mfill\u001b[0m \u001b[1;32min\u001b[0m \u001b[0mthe\u001b[0m \u001b[0mmissing\u001b[0m \u001b[0mvalues\u001b[0m \u001b[0mby\u001b[0m \u001b[0mpassing\u001b[0m \u001b[0ma\u001b[0m \u001b[0mvalue\u001b[0m \u001b[0mto\u001b[0m\u001b[1;33m\u001b[0m\u001b[1;33m\u001b[0m\u001b[0m\n\u001b[0;32m   5214\u001b[0m         \u001b[0mthe\u001b[0m \u001b[0mkeyword\u001b[0m\u001b[0;31m \u001b[0m\u001b[0;31m`\u001b[0m\u001b[0;31m`\u001b[0m\u001b[0mfill_value\u001b[0m\u001b[0;31m`\u001b[0m\u001b[0;31m`\u001b[0m\u001b[1;33m.\u001b[0m \u001b[0mBecause\u001b[0m \u001b[0mthe\u001b[0m \u001b[0mindex\u001b[0m \u001b[1;32mis\u001b[0m \u001b[1;32mnot\u001b[0m \u001b[0mmonotonically\u001b[0m\u001b[1;33m\u001b[0m\u001b[1;33m\u001b[0m\u001b[0m\n",
      "\u001b[1;32mc:\\Users\\leomi\\Anaconda3\\lib\\site-packages\\pandas\\core\\internals\\managers.py\u001b[0m in \u001b[0;36mconsolidate\u001b[1;34m(self)\u001b[0m\n\u001b[0;32m    972\u001b[0m \u001b[1;32mclass\u001b[0m \u001b[0mBlockManager\u001b[0m\u001b[1;33m(\u001b[0m\u001b[0mlibinternals\u001b[0m\u001b[1;33m.\u001b[0m\u001b[0mBlockManager\u001b[0m\u001b[1;33m,\u001b[0m \u001b[0mBaseBlockManager\u001b[0m\u001b[1;33m)\u001b[0m\u001b[1;33m:\u001b[0m\u001b[1;33m\u001b[0m\u001b[1;33m\u001b[0m\u001b[0m\n\u001b[0;32m    973\u001b[0m     \"\"\"\n\u001b[1;32m--> 974\u001b[1;33m     \u001b[0mBaseBlockManager\u001b[0m \u001b[0mthat\u001b[0m \u001b[0mholds\u001b[0m \u001b[1;36m2\u001b[0m\u001b[0mD\u001b[0m \u001b[0mblocks\u001b[0m\u001b[1;33m.\u001b[0m\u001b[1;33m\u001b[0m\u001b[1;33m\u001b[0m\u001b[0m\n\u001b[0m\u001b[0;32m    975\u001b[0m     \"\"\"\n\u001b[0;32m    976\u001b[0m \u001b[1;33m\u001b[0m\u001b[0m\n",
      "\u001b[1;32mc:\\Users\\leomi\\Anaconda3\\lib\\site-packages\\pandas\\core\\internals\\managers.py\u001b[0m in \u001b[0;36m_consolidate_inplace\u001b[1;34m(self)\u001b[0m\n\u001b[0;32m    977\u001b[0m     \u001b[0mndim\u001b[0m \u001b[1;33m=\u001b[0m \u001b[1;36m2\u001b[0m\u001b[1;33m\u001b[0m\u001b[1;33m\u001b[0m\u001b[0m\n\u001b[0;32m    978\u001b[0m \u001b[1;33m\u001b[0m\u001b[0m\n\u001b[1;32m--> 979\u001b[1;33m     \u001b[1;31m# ----------------------------------------------------------------\u001b[0m\u001b[1;33m\u001b[0m\u001b[1;33m\u001b[0m\u001b[1;33m\u001b[0m\u001b[0m\n\u001b[0m\u001b[0;32m    980\u001b[0m     \u001b[1;31m# Constructors\u001b[0m\u001b[1;33m\u001b[0m\u001b[1;33m\u001b[0m\u001b[1;33m\u001b[0m\u001b[0m\n\u001b[0;32m    981\u001b[0m \u001b[1;33m\u001b[0m\u001b[0m\n",
      "\u001b[1;32mc:\\Users\\leomi\\Anaconda3\\lib\\site-packages\\pandas\\core\\internals\\managers.py\u001b[0m in \u001b[0;36m_consolidate\u001b[1;34m(blocks)\u001b[0m\n\u001b[0;32m   1897\u001b[0m         \u001b[1;33m(\u001b[0m\u001b[0mwhether\u001b[0m \u001b[0mit\u001b[0m \u001b[0mreferences\u001b[0m \u001b[0manother\u001b[0m \u001b[0marray\u001b[0m \u001b[1;32mor\u001b[0m \u001b[1;32mis\u001b[0m \u001b[0mitself\u001b[0m \u001b[0mbeing\u001b[0m \u001b[0mreferenced\u001b[0m\u001b[1;33m)\u001b[0m\u001b[1;33m\u001b[0m\u001b[1;33m\u001b[0m\u001b[0m\n\u001b[0;32m   1898\u001b[0m         \u001b[0mReturns\u001b[0m \u001b[1;32mTrue\u001b[0m \u001b[1;32mif\u001b[0m \u001b[0mthe\u001b[0m \u001b[0mcolumn\u001b[0m \u001b[0mhas\u001b[0m \u001b[0mno\u001b[0m \u001b[0mreferences\u001b[0m\u001b[1;33m.\u001b[0m\u001b[1;33m\u001b[0m\u001b[1;33m\u001b[0m\u001b[0m\n\u001b[1;32m-> 1899\u001b[1;33m         \"\"\"\n\u001b[0m\u001b[0;32m   1900\u001b[0m         \u001b[1;32mreturn\u001b[0m \u001b[1;32mnot\u001b[0m \u001b[0mself\u001b[0m\u001b[1;33m.\u001b[0m\u001b[0mblocks\u001b[0m\u001b[1;33m[\u001b[0m\u001b[1;36m0\u001b[0m\u001b[1;33m]\u001b[0m\u001b[1;33m.\u001b[0m\u001b[0mrefs\u001b[0m\u001b[1;33m.\u001b[0m\u001b[0mhas_reference\u001b[0m\u001b[1;33m(\u001b[0m\u001b[1;33m)\u001b[0m\u001b[1;33m\u001b[0m\u001b[1;33m\u001b[0m\u001b[0m\n\u001b[0;32m   1901\u001b[0m \u001b[1;33m\u001b[0m\u001b[0m\n",
      "\u001b[1;32mc:\\Users\\leomi\\Anaconda3\\lib\\site-packages\\pandas\\core\\internals\\managers.py\u001b[0m in \u001b[0;36m_merge_blocks\u001b[1;34m(blocks, dtype, can_consolidate)\u001b[0m\n\u001b[0;32m   1920\u001b[0m \u001b[1;33m\u001b[0m\u001b[0m\n\u001b[0;32m   1921\u001b[0m     \u001b[1;32mdef\u001b[0m \u001b[0m__setstate__\u001b[0m\u001b[1;33m(\u001b[0m\u001b[0mself\u001b[0m\u001b[1;33m,\u001b[0m \u001b[0mstate\u001b[0m\u001b[1;33m)\u001b[0m\u001b[1;33m:\u001b[0m\u001b[1;33m\u001b[0m\u001b[1;33m\u001b[0m\u001b[0m\n\u001b[1;32m-> 1922\u001b[1;33m         \u001b[1;32mdef\u001b[0m \u001b[0munpickle_block\u001b[0m\u001b[1;33m(\u001b[0m\u001b[0mvalues\u001b[0m\u001b[1;33m,\u001b[0m \u001b[0mmgr_locs\u001b[0m\u001b[1;33m,\u001b[0m \u001b[0mndim\u001b[0m\u001b[1;33m:\u001b[0m \u001b[0mint\u001b[0m\u001b[1;33m)\u001b[0m \u001b[1;33m->\u001b[0m \u001b[0mBlock\u001b[0m\u001b[1;33m:\u001b[0m\u001b[1;33m\u001b[0m\u001b[1;33m\u001b[0m\u001b[0m\n\u001b[0m\u001b[0;32m   1923\u001b[0m             \u001b[1;31m# TODO(EA2D): ndim would be unnecessary with 2D EAs\u001b[0m\u001b[1;33m\u001b[0m\u001b[1;33m\u001b[0m\u001b[1;33m\u001b[0m\u001b[0m\n\u001b[0;32m   1924\u001b[0m             \u001b[1;31m# older pickles may store e.g. DatetimeIndex instead of DatetimeArray\u001b[0m\u001b[1;33m\u001b[0m\u001b[1;33m\u001b[0m\u001b[1;33m\u001b[0m\u001b[0m\n",
      "\u001b[1;32mc:\\Users\\leomi\\Anaconda3\\lib\\site-packages\\numpy\\core\\overrides.py\u001b[0m in \u001b[0;36mvstack\u001b[1;34m(*args, **kwargs)\u001b[0m\n",
      "\u001b[1;32mc:\\Users\\leomi\\Anaconda3\\lib\\site-packages\\numpy\\core\\shape_base.py\u001b[0m in \u001b[0;36mvstack\u001b[1;34m(tup)\u001b[0m\n\u001b[0;32m    280\u001b[0m     \u001b[1;32mif\u001b[0m \u001b[1;32mnot\u001b[0m \u001b[0misinstance\u001b[0m\u001b[1;33m(\u001b[0m\u001b[0marrs\u001b[0m\u001b[1;33m,\u001b[0m \u001b[0mlist\u001b[0m\u001b[1;33m)\u001b[0m\u001b[1;33m:\u001b[0m\u001b[1;33m\u001b[0m\u001b[1;33m\u001b[0m\u001b[0m\n\u001b[0;32m    281\u001b[0m         \u001b[0marrs\u001b[0m \u001b[1;33m=\u001b[0m \u001b[1;33m[\u001b[0m\u001b[0marrs\u001b[0m\u001b[1;33m]\u001b[0m\u001b[1;33m\u001b[0m\u001b[1;33m\u001b[0m\u001b[0m\n\u001b[1;32m--> 282\u001b[1;33m     \u001b[1;32mreturn\u001b[0m \u001b[0m_nx\u001b[0m\u001b[1;33m.\u001b[0m\u001b[0mconcatenate\u001b[0m\u001b[1;33m(\u001b[0m\u001b[0marrs\u001b[0m\u001b[1;33m,\u001b[0m \u001b[1;36m0\u001b[0m\u001b[1;33m)\u001b[0m\u001b[1;33m\u001b[0m\u001b[1;33m\u001b[0m\u001b[0m\n\u001b[0m\u001b[0;32m    283\u001b[0m \u001b[1;33m\u001b[0m\u001b[0m\n\u001b[0;32m    284\u001b[0m \u001b[1;33m\u001b[0m\u001b[0m\n",
      "\u001b[1;32mc:\\Users\\leomi\\Anaconda3\\lib\\site-packages\\numpy\\core\\overrides.py\u001b[0m in \u001b[0;36mconcatenate\u001b[1;34m(*args, **kwargs)\u001b[0m\n",
      "\u001b[1;31mKeyboardInterrupt\u001b[0m: "
     ]
    }
   ],
   "source": [
    "# Inicializa a lista de DataFrames e outras variáveis \n",
    "# Iterar por cada grupo de ISIN\n",
    "for isin, group in df1.groupby('ISIN'):\n",
    "    # Ordenar por data dentro de cada grupo\n",
    "    group = group.sort_values(by=df1.columns[2])\n",
    "    \n",
    "    # Verificar se há mudanças de valor entre linhas consecutivas\n",
    "    for i in range(1, len(group)):\n",
    "        valor_antigo = group.iloc[i - 1][df1.columns[1]]\n",
    "        valor_novo = group.iloc[i][df1.columns[1]]\n",
    "        data_antiga = group.iloc[i - 1][df1.columns[2]]\n",
    "        data_nova = group.iloc[i][df1.columns[2]]\n",
    "        \n",
    "        if valor_antigo != valor_novo:  # Detectar mudança no valor     \n",
    "            new_df = new_df.append({\n",
    "                \"ISIN\": isin,\n",
    "                \"data_valor_antigo\": data_antiga,\n",
    "                \"data_valor_novo\": data_nova,\n",
    "                \"valor_antigo\": valor_antigo,\n",
    "                \"valor_novo\": valor_novo\n",
    "            }, ignore_index=True)\n",
    "\n",
    "\n",
    "\n",
    "new_df"
   ]
  },
  {
   "cell_type": "code",
   "execution_count": null,
   "metadata": {},
   "outputs": [],
   "source": [
    "# Concatenar os DataFrames em um único, mantendo as colunas relevantes\n",
    "dados = pd.concat([df1, df2, df3, df4, df5])\n",
    "\n",
    "# Ordenar pelos ISIN e pela data correspondente\n",
    "dados.sort_values(by=[\"ISIN\", \"Valuation NAV Date\"], inplace=True)\n",
    "\n",
    "# Criar um DataFrame deslocado para comparações\n",
    "dados['valor_antigo'] = dados.groupby('ISIN')['Valuation NAV'].shift(1)\n",
    "dados['data_valor_antigo'] = dados.groupby('ISIN')['Valuation NAV Date'].shift(1)\n",
    "\n",
    "# Filtrar as linhas onde o valor mudou\n",
    "mudancas = dados[dados['Valuation NAV'] != dados['valor_antigo']].copy()\n",
    "\n",
    "# Selecionar as colunas relevantes\n",
    "mudancas_df = mudancas[['ISIN', 'data_valor_antigo', 'Valuation NAV Date', 'valor_antigo', 'Valuation NAV']]\n",
    "mudancas_df.columns = ['ISIN', 'data_valor_antigo', 'data_valor_novo', 'valor_antigo', 'valor_novo']\n"
   ]
  },
  {
   "cell_type": "code",
   "execution_count": 34,
   "metadata": {},
   "outputs": [
    {
     "ename": "AttributeError",
     "evalue": "'NotebookFormatter' object has no attribute 'get_result'",
     "output_type": "error",
     "traceback": [
      "\u001b[1;31m---------------------------------------------------------------------------\u001b[0m",
      "\u001b[1;31mAttributeError\u001b[0m                            Traceback (most recent call last)",
      "\u001b[1;32mc:\\Users\\leomi\\Anaconda3\\lib\\site-packages\\IPython\\core\\formatters.py\u001b[0m in \u001b[0;36m__call__\u001b[1;34m(self, obj)\u001b[0m\n\u001b[0;32m    343\u001b[0m             \u001b[0mmethod\u001b[0m \u001b[1;33m=\u001b[0m \u001b[0mget_real_method\u001b[0m\u001b[1;33m(\u001b[0m\u001b[0mobj\u001b[0m\u001b[1;33m,\u001b[0m \u001b[0mself\u001b[0m\u001b[1;33m.\u001b[0m\u001b[0mprint_method\u001b[0m\u001b[1;33m)\u001b[0m\u001b[1;33m\u001b[0m\u001b[1;33m\u001b[0m\u001b[0m\n\u001b[0;32m    344\u001b[0m             \u001b[1;32mif\u001b[0m \u001b[0mmethod\u001b[0m \u001b[1;32mis\u001b[0m \u001b[1;32mnot\u001b[0m \u001b[1;32mNone\u001b[0m\u001b[1;33m:\u001b[0m\u001b[1;33m\u001b[0m\u001b[1;33m\u001b[0m\u001b[0m\n\u001b[1;32m--> 345\u001b[1;33m                 \u001b[1;32mreturn\u001b[0m \u001b[0mmethod\u001b[0m\u001b[1;33m(\u001b[0m\u001b[1;33m)\u001b[0m\u001b[1;33m\u001b[0m\u001b[1;33m\u001b[0m\u001b[0m\n\u001b[0m\u001b[0;32m    346\u001b[0m             \u001b[1;32mreturn\u001b[0m \u001b[1;32mNone\u001b[0m\u001b[1;33m\u001b[0m\u001b[1;33m\u001b[0m\u001b[0m\n\u001b[0;32m    347\u001b[0m         \u001b[1;32melse\u001b[0m\u001b[1;33m:\u001b[0m\u001b[1;33m\u001b[0m\u001b[1;33m\u001b[0m\u001b[0m\n",
      "\u001b[1;32mc:\\Users\\leomi\\Anaconda3\\lib\\site-packages\\pandas\\core\\frame.py\u001b[0m in \u001b[0;36m_repr_html_\u001b[1;34m(self)\u001b[0m\n\u001b[0;32m    796\u001b[0m                     )\n\u001b[0;32m    797\u001b[0m                 \u001b[1;32melse\u001b[0m\u001b[1;33m:\u001b[0m\u001b[1;33m\u001b[0m\u001b[1;33m\u001b[0m\u001b[0m\n\u001b[1;32m--> 798\u001b[1;33m                     mgr = ndarray_to_mgr(\n\u001b[0m\u001b[0;32m    799\u001b[0m                         \u001b[0mdata\u001b[0m\u001b[1;33m,\u001b[0m\u001b[1;33m\u001b[0m\u001b[1;33m\u001b[0m\u001b[0m\n\u001b[0;32m    800\u001b[0m                         \u001b[0mindex\u001b[0m\u001b[1;33m,\u001b[0m\u001b[1;33m\u001b[0m\u001b[1;33m\u001b[0m\u001b[0m\n",
      "\u001b[1;32mc:\\Users\\leomi\\Anaconda3\\lib\\site-packages\\pandas\\io\\formats\\format.py\u001b[0m in \u001b[0;36mto_html\u001b[1;34m(self, buf, encoding, classes, notebook, border)\u001b[0m\n\u001b[0;32m    986\u001b[0m \u001b[1;33m\u001b[0m\u001b[0m\n\u001b[0;32m    987\u001b[0m         \u001b[1;31m# empty space for columns\u001b[0m\u001b[1;33m\u001b[0m\u001b[1;33m\u001b[0m\u001b[1;33m\u001b[0m\u001b[0m\n\u001b[1;32m--> 988\u001b[1;33m         \u001b[1;32mif\u001b[0m \u001b[0mself\u001b[0m\u001b[1;33m.\u001b[0m\u001b[0mshow_col_idx_names\u001b[0m\u001b[1;33m:\u001b[0m\u001b[1;33m\u001b[0m\u001b[1;33m\u001b[0m\u001b[0m\n\u001b[0m\u001b[0;32m    989\u001b[0m             \u001b[0mcol_header\u001b[0m \u001b[1;33m=\u001b[0m \u001b[1;33m[\u001b[0m\u001b[0mstr\u001b[0m\u001b[1;33m(\u001b[0m\u001b[0mx\u001b[0m\u001b[1;33m)\u001b[0m \u001b[1;32mfor\u001b[0m \u001b[0mx\u001b[0m \u001b[1;32min\u001b[0m \u001b[0mself\u001b[0m\u001b[1;33m.\u001b[0m\u001b[0m_get_column_name_list\u001b[0m\u001b[1;33m(\u001b[0m\u001b[1;33m)\u001b[0m\u001b[1;33m]\u001b[0m\u001b[1;33m\u001b[0m\u001b[1;33m\u001b[0m\u001b[0m\n\u001b[0;32m    990\u001b[0m         \u001b[1;32melse\u001b[0m\u001b[1;33m:\u001b[0m\u001b[1;33m\u001b[0m\u001b[1;33m\u001b[0m\u001b[0m\n",
      "\u001b[1;31mAttributeError\u001b[0m: 'NotebookFormatter' object has no attribute 'get_result'"
     ]
    },
    {
     "data": {
      "text/plain": [
       "                 ISIN data_valor_antigo data_valor_novo  valor_antigo  \\\n",
       "85857    990000002459               NaN      2024-05-29           NaN   \n",
       "207340   990000002459        2024-05-29      2024-05-30        254.66   \n",
       "308181   990000002459        2024-05-30      2024-05-31        255.54   \n",
       "414235   990000002459        2024-05-31      2024-06-03        255.96   \n",
       "519739   990000002459        2024-06-03      2024-06-04        256.12   \n",
       "...               ...               ...             ...           ...   \n",
       "1572905  ZZ00AB5QQ5 0               NaN             NaN           NaN   \n",
       "1795634  ZZ00AB5QQ5 0               NaN             NaN           NaN   \n",
       "954243   ZZ00AB5QQ5 0               NaN             NaN           NaN   \n",
       "1572905  ZZ00AB5QQ5 0               NaN             NaN           NaN   \n",
       "1795634  ZZ00AB5QQ5 0               NaN             NaN           NaN   \n",
       "\n",
       "         valor_novo  \n",
       "85857        254.66  \n",
       "207340       255.54  \n",
       "308181       255.96  \n",
       "414235       256.12  \n",
       "519739       255.02  \n",
       "...             ...  \n",
       "1572905         NaN  \n",
       "1795634         NaN  \n",
       "954243          NaN  \n",
       "1572905         NaN  \n",
       "1795634         NaN  \n",
       "\n",
       "[10277239 rows x 5 columns]"
      ]
     },
     "execution_count": 34,
     "metadata": {},
     "output_type": "execute_result"
    }
   ],
   "source": [
    "mudancas_df"
   ]
  },
  {
   "cell_type": "code",
   "execution_count": null,
   "metadata": {},
   "outputs": [],
   "source": [
    "server = 'localhost'\n",
    "database = 'master'\n",
    "db.create_engine(f'mssql+pyodbc://@{server}/{database}?driver=ODBC+Driver+17+for+SQL+Server;Trusted_Connection=yes;')"
   ]
  },
  {
   "cell_type": "code",
   "execution_count": null,
   "metadata": {},
   "outputs": [],
   "source": []
  },
  {
   "cell_type": "code",
   "execution_count": null,
   "metadata": {},
   "outputs": [],
   "source": []
  },
  {
   "cell_type": "code",
   "execution_count": null,
   "metadata": {},
   "outputs": [],
   "source": []
  },
  {
   "cell_type": "code",
   "execution_count": null,
   "metadata": {},
   "outputs": [],
   "source": []
  },
  {
   "cell_type": "code",
   "execution_count": null,
   "metadata": {},
   "outputs": [],
   "source": []
  },
  {
   "cell_type": "code",
   "execution_count": null,
   "metadata": {},
   "outputs": [],
   "source": []
  },
  {
   "cell_type": "code",
   "execution_count": null,
   "metadata": {},
   "outputs": [],
   "source": [
    "# Calcular as mudanças diárias para a coluna 'valor_ativo', por exemplo\n",
    "dados_concatenados['mudanca_valor_ativo'] = dados_concatenados.groupby('ISIN')['valor_ativo'].diff()\n",
    "\n",
    "# Filtrar apenas as linhas onde houveram mudanças\n",
    "mudancas_diarias = dados_concatenados[dados_concatenados['mudanca_valor_ativo'].notnull()]\n",
    "\n",
    "# Mostrar as primeiras linhas do resultado\n",
    "print(mudancas_diarias.head())\n",
    "\n",
    "# Se desejar salvar as mudanças em um novo arquivo CSV para análise\n",
    "mudancas_diarias.to_csv('mudancas_diarias_fundos.csv', index=False)"
   ]
  }
 ],
 "metadata": {
  "kernelspec": {
   "display_name": "base",
   "language": "python",
   "name": "python3"
  },
  "language_info": {
   "codemirror_mode": {
    "name": "ipython",
    "version": 3
   },
   "file_extension": ".py",
   "mimetype": "text/x-python",
   "name": "python",
   "nbconvert_exporter": "python",
   "pygments_lexer": "ipython3",
   "version": "3.12.4"
  }
 },
 "nbformat": 4,
 "nbformat_minor": 4
}
