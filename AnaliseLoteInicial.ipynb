{
  "cells": [
    {
      "cell_type": "markdown",
      "metadata": {},
      "source": [
        "# Notebook de Análise do Lote Inicial"
      ]
    },
    {
      "cell_type": "markdown",
      "metadata": {},
      "source": [
        "### Imports"
      ]
    },
    {
      "cell_type": "code",
      "execution_count": 1,
      "metadata": {
        "id": "LVAf_memvtK1"
      },
      "outputs": [],
      "source": [
        "import numpy as np\n",
        "import pandas as pd\n",
        "import matplotlib.pyplot as plt"
      ]
    },
    {
      "cell_type": "markdown",
      "metadata": {},
      "source": [
        "## Definindo um Chunk do arquivo para Análise"
      ]
    },
    {
      "cell_type": "code",
      "execution_count": 2,
      "metadata": {},
      "outputs": [
        {
          "name": "stdout",
          "output_type": "stream",
          "text": [
            "              ISIN Fund Group Name Dynamic Currency General Reference Date  \\\n",
            "0     LU1883342021          Amundi              GBP             2022-07-17   \n",
            "1     LU1883342021          Amundi              GBP             2022-07-17   \n",
            "2     LU1883342021          Amundi              GBP             2022-07-17   \n",
            "3     LU1883342021          Amundi              GBP             2022-07-17   \n",
            "4     LU1883342021          Amundi              GBP             2022-07-17   \n",
            "...            ...             ...              ...                    ...   \n",
            "1995  LU1883342021          Amundi              GBP             2015-01-30   \n",
            "1996  LU1883342021          Amundi              GBP             2015-01-30   \n",
            "1997  LU1883342021          Amundi              GBP             2015-01-30   \n",
            "1998  LU1883342021          Amundi              GBP             2015-02-02   \n",
            "1999  LU1883342021          Amundi              GBP             2015-02-02   \n",
            "\n",
            "                Dynamic Data Type  Dynamic Value  \n",
            "0                          FE Bid          64.27  \n",
            "1             FE Total Return Bid          64.27  \n",
            "2       FE Gross Total Return Bid          64.27  \n",
            "3                        FE Offer          64.27  \n",
            "4           FE Total Return Offer          64.27  \n",
            "...                           ...            ...  \n",
            "1995                     FE Offer          44.34  \n",
            "1996        FE Total Return Offer          44.34  \n",
            "1997  FE Gross Total Return Offer          44.34  \n",
            "1998                       FE Bid          44.18  \n",
            "1999          FE Total Return Bid          44.18  \n",
            "\n",
            "[2000 rows x 6 columns]\n"
          ]
        }
      ],
      "source": [
        "# Definindo o tamanho do chunk para x linhas (alterar abaixo para mudar o tamanho do chunk)\n",
        "chunksize = 2000\n",
        "\n",
        "# Lista para armazenar os chunks processados\n",
        "chunks = []\n",
        "\n",
        "reader = pd.read_csv('LoteInicial.csv', chunksize=chunksize)\n",
        "chunks.append(reader)\n",
        "\n",
        "# Pegando o primeiro chunk\n",
        "chunk = next(reader)\n",
        "\n",
        "# Exibindo o chunk\n",
        "print(chunk)"
      ]
    },
    {
      "cell_type": "markdown",
      "metadata": {},
      "source": [
        "## Análise do Chunk Selecionado do Lote Inicial"
      ]
    },
    {
      "cell_type": "code",
      "execution_count": 3,
      "metadata": {},
      "outputs": [
        {
          "name": "stdout",
          "output_type": "stream",
          "text": [
            "['LU1883342021']\n",
            "['Amundi']\n",
            "['FE Bid' 'FE Total Return Bid' 'FE Gross Total Return Bid' 'FE Offer'\n",
            " 'FE Total Return Offer' 'FE Gross Total Return Offer']\n"
          ]
        }
      ],
      "source": [
        "print(chunk['ISIN'].unique())\n",
        "print(chunk['Fund Group Name'].unique())\n",
        "print(chunk['Dynamic Data Type'].unique())"
      ]
    },
    {
      "cell_type": "code",
      "execution_count": 4,
      "metadata": {},
      "outputs": [
        {
          "name": "stdout",
          "output_type": "stream",
          "text": [
            "count    2000.00000\n",
            "mean       59.68829\n",
            "std        10.27266\n",
            "min        38.43000\n",
            "25%        62.55250\n",
            "50%        64.22000\n",
            "75%        66.26000\n",
            "max        69.61000\n",
            "Name: Dynamic Value, dtype: float64\n"
          ]
        }
      ],
      "source": [
        "print(chunk['Dynamic Value'].describe())"
      ]
    },
    {
      "cell_type": "code",
      "execution_count": 5,
      "metadata": {},
      "outputs": [],
      "source": [
        "chunk['General Reference Date'] = pd.to_datetime(chunk['General Reference Date'])"
      ]
    },
    {
      "cell_type": "code",
      "execution_count": 6,
      "metadata": {},
      "outputs": [
        {
          "name": "stdout",
          "output_type": "stream",
          "text": [
            "General Reference Date\n",
            "2014-10-10    39.39\n",
            "2014-10-13    39.24\n",
            "2014-10-14    39.45\n",
            "2014-10-15    38.81\n",
            "2014-10-16    38.43\n",
            "              ...  \n",
            "2023-07-11    63.52\n",
            "2023-07-12    63.58\n",
            "2023-07-13    63.56\n",
            "2023-07-14    63.68\n",
            "2023-07-17    63.77\n",
            "Name: Dynamic Value, Length: 334, dtype: float64\n"
          ]
        }
      ],
      "source": [
        "print(chunk.groupby('General Reference Date')['Dynamic Value'].mean())"
      ]
    },
    {
      "cell_type": "code",
      "execution_count": 7,
      "metadata": {},
      "outputs": [
        {
          "name": "stdout",
          "output_type": "stream",
          "text": [
            "ISIN          Dynamic Data Type          \n",
            "LU1883342021  FE Bid                         334\n",
            "              FE Gross Total Return Bid      333\n",
            "              FE Gross Total Return Offer    333\n",
            "              FE Offer                       333\n",
            "              FE Total Return Bid            334\n",
            "              FE Total Return Offer          333\n",
            "dtype: int64\n"
          ]
        }
      ],
      "source": [
        "frequencias = chunk.groupby(['ISIN', 'Dynamic Data Type']).size()\n",
        "print(frequencias)"
      ]
    },
    {
      "cell_type": "markdown",
      "metadata": {},
      "source": [
        "### Plota a Média dos Valores de Dynamic Value ao longo do tempo para uma Dynamic Data Type"
      ]
    },
    {
      "cell_type": "code",
      "execution_count": 8,
      "metadata": {},
      "outputs": [
        {
          "data": {
            "image/png": "[encoded data removed]",
            "text/plain": [
              "<Figure size 640x480 with 1 Axes>"
            ]
          },
          "metadata": {},
          "output_type": "display_data"
        }
      ],
      "source": [
        "chunk['General Reference Date'] = pd.to_datetime(chunk['General Reference Date'])\n",
        "    \n",
        "# Filtrar por 'FE Bid' e calcular média por data\n",
        "fe_bid = chunk[chunk['Dynamic Data Type'] == 'FE Bid']\n",
        "media_por_data = fe_bid.groupby('General Reference Date')['Dynamic Value'].mean()\n",
        "    \n",
        "# Plotar a média ao longo do tempo\n",
        "media_por_data.plot()\n",
        "plt.show()"
      ]
    },
    {
      "cell_type": "code",
      "execution_count": 9,
      "metadata": {},
      "outputs": [
        {
          "name": "stdout",
          "output_type": "stream",
          "text": [
            "Fund Group Name\n",
            "Amundi    59.68829\n",
            "Name: Dynamic Value, dtype: float64\n"
          ]
        }
      ],
      "source": [
        "media_por_grupo = chunk.groupby('Fund Group Name')['Dynamic Value'].mean()\n",
        "print(media_por_grupo)"
      ]
    }
  ],
  "metadata": {
    "colab": {
      "provenance": []
    },
    "kernelspec": {
      "display_name": "base",
      "language": "python",
      "name": "python3"
    },
    "language_info": {
      "codemirror_mode": {
        "name": "ipython",
        "version": 3
      },
      "file_extension": ".py",
      "mimetype": "text/x-python",
      "name": "python",
      "nbconvert_exporter": "python",
      "pygments_lexer": "ipython3",
      "version": "3.12.3"
    }
  },
  "nbformat": 4,
  "nbformat_minor": 0
}
