{
  "cells": [
    {
      "cell_type": "markdown",
      "metadata": {},
      "source": [
        "## Notebook de Análise do Lote Inicial"
      ]
    },
    {
      "cell_type": "code",
      "execution_count": 10,
      "metadata": {
        "id": "LVAf_memvtK1"
      },
      "outputs": [],
      "source": [
        "import numpy as np\n",
        "import pandas as pd\n",
        "import matplotlib.pyplot as plt\n"
      ]
    },
    {
      "cell_type": "code",
      "execution_count": 11,
      "metadata": {},
      "outputs": [
        {
          "name": "stdout",
          "output_type": "stream",
          "text": [
            "Testando\n"
          ]
        }
      ],
      "source": [
        "print(\"Testando\")"
      ]
    },
    {
      "cell_type": "code",
      "execution_count": 12,
      "metadata": {},
      "outputs": [],
      "source": [
        "# resultados = []\n",
        "\n",
        "# chunksize = 10 ** 6\n",
        "# for chunk in pd.read_csv('LoteInicial.csv', chunksize=chunksize):\n",
        "#     print(chunk.head())\n",
        "#     break"
      ]
    },
    {
      "cell_type": "code",
      "execution_count": 13,
      "metadata": {},
      "outputs": [
        {
          "name": "stdout",
          "output_type": "stream",
          "text": [
            "            ISIN Fund Group Name Dynamic Currency General Reference Date  \\\n",
            "0   LU1883342021          Amundi              GBP             2022-07-17   \n",
            "1   LU1883342021          Amundi              GBP             2022-07-17   \n",
            "2   LU1883342021          Amundi              GBP             2022-07-17   \n",
            "3   LU1883342021          Amundi              GBP             2022-07-17   \n",
            "4   LU1883342021          Amundi              GBP             2022-07-17   \n",
            "5   LU1883342021          Amundi              GBP             2022-07-17   \n",
            "6   LU1883342021          Amundi              GBP             2022-07-18   \n",
            "7   LU1883342021          Amundi              GBP             2022-07-18   \n",
            "8   LU1883342021          Amundi              GBP             2022-07-18   \n",
            "9   LU1883342021          Amundi              GBP             2022-07-18   \n",
            "10  LU1883342021          Amundi              GBP             2022-07-18   \n",
            "11  LU1883342021          Amundi              GBP             2022-07-18   \n",
            "12  LU1883342021          Amundi              GBP             2022-07-19   \n",
            "13  LU1883342021          Amundi              GBP             2022-07-19   \n",
            "14  LU1883342021          Amundi              GBP             2022-07-19   \n",
            "15  LU1883342021          Amundi              GBP             2022-07-19   \n",
            "16  LU1883342021          Amundi              GBP             2022-07-19   \n",
            "17  LU1883342021          Amundi              GBP             2022-07-19   \n",
            "18  LU1883342021          Amundi              GBP             2022-07-20   \n",
            "19  LU1883342021          Amundi              GBP             2022-07-20   \n",
            "\n",
            "              Dynamic Data Type  Dynamic Value  \n",
            "0                        FE Bid          64.27  \n",
            "1           FE Total Return Bid          64.27  \n",
            "2     FE Gross Total Return Bid          64.27  \n",
            "3                      FE Offer          64.27  \n",
            "4         FE Total Return Offer          64.27  \n",
            "5   FE Gross Total Return Offer          64.27  \n",
            "6                        FE Bid          63.71  \n",
            "7           FE Total Return Bid          63.71  \n",
            "8     FE Gross Total Return Bid          63.71  \n",
            "9                      FE Offer          63.71  \n",
            "10        FE Total Return Offer          63.71  \n",
            "11  FE Gross Total Return Offer          63.71  \n",
            "12                       FE Bid          64.48  \n",
            "13          FE Total Return Bid          64.48  \n",
            "14    FE Gross Total Return Bid          64.48  \n",
            "15                     FE Offer          64.48  \n",
            "16        FE Total Return Offer          64.48  \n",
            "17  FE Gross Total Return Offer          64.48  \n",
            "18                       FE Bid          64.86  \n",
            "19          FE Total Return Bid          64.86  \n"
          ]
        }
      ],
      "source": [
        "# Definindo o tamanho do chunk para 5 linhas\n",
        "chunksize = 20\n",
        "reader = pd.read_csv('LoteInicial.csv', chunksize=chunksize)\n",
        "\n",
        "# Pegando o primeiro chunk\n",
        "chunk = next(reader)\n",
        "\n",
        "# Exibindo o chunk\n",
        "print(chunk)"
      ]
    },
    {
      "cell_type": "code",
      "execution_count": 14,
      "metadata": {},
      "outputs": [
        {
          "name": "stdout",
          "output_type": "stream",
          "text": [
            "['LU1883342021']\n",
            "['Amundi']\n",
            "['FE Bid' 'FE Total Return Bid' 'FE Gross Total Return Bid' 'FE Offer'\n",
            " 'FE Total Return Offer' 'FE Gross Total Return Offer']\n"
          ]
        }
      ],
      "source": [
        "print(chunk['ISIN'].unique())\n",
        "print(chunk['Fund Group Name'].unique())\n",
        "print(chunk['Dynamic Data Type'].unique())"
      ]
    }
  ],
  "metadata": {
    "colab": {
      "provenance": []
    },
    "kernelspec": {
      "display_name": "base",
      "language": "python",
      "name": "python3"
    },
    "language_info": {
      "codemirror_mode": {
        "name": "ipython",
        "version": 3
      },
      "file_extension": ".py",
      "mimetype": "text/x-python",
      "name": "python",
      "nbconvert_exporter": "python",
      "pygments_lexer": "ipython3",
      "version": "3.12.4"
    }
  },
  "nbformat": 4,
  "nbformat_minor": 0
}
