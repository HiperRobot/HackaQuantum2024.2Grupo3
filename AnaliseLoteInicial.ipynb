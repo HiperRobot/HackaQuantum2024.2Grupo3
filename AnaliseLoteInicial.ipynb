{
  "cells": [
    {
      "cell_type": "markdown",
      "metadata": {},
      "source": [
        "# Notebook de Análise do Lote Inicial"
      ]
    },
    {
      "cell_type": "markdown",
      "metadata": {},
      "source": [
        "### Imports"
      ]
    },
    {
      "cell_type": "code",
      "execution_count": 96,
      "metadata": {
        "id": "LVAf_memvtK1"
      },
      "outputs": [],
      "source": [
        "import numpy as np\n",
        "import pandas as pd\n",
        "import matplotlib.pyplot as plt\n"
      ]
    },
    {
      "cell_type": "code",
      "execution_count": 97,
      "metadata": {},
      "outputs": [
        {
          "name": "stdout",
          "output_type": "stream",
          "text": [
            "Testando\n"
          ]
        }
      ],
      "source": [
        "print(\"Testando\")"
      ]
    },
    {
      "cell_type": "markdown",
      "metadata": {},
      "source": [
        "### Definindo os chunks pelo número de linhas"
      ]
    },
    {
      "cell_type": "code",
      "execution_count": null,
      "metadata": {},
      "outputs": [],
      "source": [
        "# Definindo o tamanho do chunk para x linhas (alterar abaixo para mudar o tamanho do chunk)\n",
        "chunksize = 20\n",
        "\n",
        "# Lista para armazenar os chunks processados\n",
        "chunks = []\n",
        "\n",
        "reader = pd.read_csv('LoteInicial.csv', chunksize=chunksize)\n",
        "for chunk in reader:\n",
        "    # Adicionar o chunk à lista\n",
        "    chunks.append(chunk)\n",
        "\n",
        "# Concatenar todos os chunks para formar o arquivo completo\n",
        "arquivo_completo = pd.concat(chunks)\n",
        "\n",
        "# Salvar o arquivo completo como parquet\n",
        "arquivo_completo.to_parquet('arquivo_completo.parquet')\n",
        "\n",
        "# Exibindo o primeiro chunk\n",
        "print(chunks[0])"
      ]
    },
    {
      "cell_type": "markdown",
      "metadata": {},
      "source": [
        "## Análise do Chunks Selecionado do Lote Inicial"
      ]
    },
    {
      "cell_type": "code",
      "execution_count": 85,
      "metadata": {},
      "outputs": [
        {
          "name": "stdout",
          "output_type": "stream",
          "text": [
            "['LU1883342021']\n",
            "['Amundi']\n",
            "['FE Bid' 'FE Total Return Bid' 'FE Gross Total Return Bid' 'FE Offer'\n",
            " 'FE Total Return Offer' 'FE Gross Total Return Offer']\n"
          ]
        }
      ],
      "source": [
        "print(chunk['ISIN'].unique())\n",
        "print(chunk['Fund Group Name'].unique())\n",
        "print(chunk['Dynamic Data Type'].unique())"
      ]
    },
    {
      "cell_type": "code",
      "execution_count": 86,
      "metadata": {},
      "outputs": [
        {
          "name": "stdout",
          "output_type": "stream",
          "text": [
            "count    20.000000\n",
            "mean     64.224000\n",
            "std       0.383891\n",
            "min      63.710000\n",
            "25%      63.710000\n",
            "50%      64.270000\n",
            "75%      64.480000\n",
            "max      64.860000\n",
            "Name: Dynamic Value, dtype: float64\n"
          ]
        }
      ],
      "source": [
        "print(chunk['Dynamic Value'].describe())"
      ]
    },
    {
      "cell_type": "code",
      "execution_count": 87,
      "metadata": {},
      "outputs": [],
      "source": [
        "chunk['General Reference Date'] = pd.to_datetime(chunk['General Reference Date'])"
      ]
    },
    {
      "cell_type": "code",
      "execution_count": 88,
      "metadata": {},
      "outputs": [
        {
          "name": "stdout",
          "output_type": "stream",
          "text": [
            "General Reference Date\n",
            "2022-07-17    64.27\n",
            "2022-07-18    63.71\n",
            "2022-07-19    64.48\n",
            "2022-07-20    64.86\n",
            "Name: Dynamic Value, dtype: float64\n"
          ]
        }
      ],
      "source": [
        "print(chunk.groupby('General Reference Date')['Dynamic Value'].mean())"
      ]
    },
    {
      "cell_type": "code",
      "execution_count": 89,
      "metadata": {},
      "outputs": [
        {
          "name": "stdout",
          "output_type": "stream",
          "text": [
            "ISIN          Dynamic Data Type          \n",
            "LU1883342021  FE Bid                         4\n",
            "              FE Gross Total Return Bid      3\n",
            "              FE Gross Total Return Offer    3\n",
            "              FE Offer                       3\n",
            "              FE Total Return Bid            4\n",
            "              FE Total Return Offer          3\n",
            "dtype: int64\n"
          ]
        }
      ],
      "source": [
        "frequencias = chunk.groupby(['ISIN', 'Dynamic Data Type']).size()\n",
        "print(frequencias)"
      ]
    },
    {
      "cell_type": "code",
      "execution_count": 90,
      "metadata": {},
      "outputs": [
        {
          "name": "stdout",
          "output_type": "stream",
          "text": [
            "Empty DataFrame\n",
            "Columns: [ISIN, Fund Group Name, Dynamic Currency, General Reference Date, Dynamic Data Type, Dynamic Value]\n",
            "Index: []\n"
          ]
        }
      ],
      "source": [
        "Q1 = chunk['Dynamic Value'].quantile(0.25)\n",
        "Q3 = chunk['Dynamic Value'].quantile(0.75)\n",
        "IQR = Q3 - Q1\n",
        "\n",
        "# Definir outliers como valores fora de 1.5 vezes o IQR\n",
        "outliers = chunk[(chunk['Dynamic Value'] < (Q1 - 1.5 * IQR)) | (chunk['Dynamic Value'] > (Q3 + 1.5 * IQR))]\n",
        "print(outliers)"
      ]
    },
    {
      "cell_type": "code",
      "execution_count": 91,
      "metadata": {},
      "outputs": [
        {
          "data": {
            "image/png": "[encoded data removed]",
            "text/plain": [
              "<Figure size 640x480 with 1 Axes>"
            ]
          },
          "metadata": {},
          "output_type": "display_data"
        }
      ],
      "source": [
        "chunk['General Reference Date'] = pd.to_datetime(chunk['General Reference Date'])\n",
        "    \n",
        "# Filtrar por 'FE Bid' e calcular média por data\n",
        "fe_bid = chunk[chunk['Dynamic Data Type'] == 'FE Bid']\n",
        "media_por_data = fe_bid.groupby('General Reference Date')['Dynamic Value'].mean()\n",
        "    \n",
        "# Plotar a média ao longo do tempo\n",
        "media_por_data.plot()\n",
        "plt.show()"
      ]
    },
    {
      "cell_type": "code",
      "execution_count": 92,
      "metadata": {},
      "outputs": [
        {
          "name": "stdout",
          "output_type": "stream",
          "text": [
            "Fund Group Name\n",
            "Amundi    64.224\n",
            "Name: Dynamic Value, dtype: float64\n"
          ]
        }
      ],
      "source": [
        "media_por_grupo = chunk.groupby('Fund Group Name')['Dynamic Value'].mean()\n",
        "print(media_por_grupo)"
      ]
    }
  ],
  "metadata": {
    "colab": {
      "provenance": []
    },
    "kernelspec": {
      "display_name": "base",
      "language": "python",
      "name": "python3"
    },
    "language_info": {
      "codemirror_mode": {
        "name": "ipython",
        "version": 3
      },
      "file_extension": ".py",
      "mimetype": "text/x-python",
      "name": "python",
      "nbconvert_exporter": "python",
      "pygments_lexer": "ipython3",
      "version": "3.12.4"
    }
  },
  "nbformat": 4,
  "nbformat_minor": 0
}
