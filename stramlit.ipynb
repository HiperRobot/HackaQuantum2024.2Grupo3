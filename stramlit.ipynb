{
 "cells": [
  {
   "cell_type": "code",
   "execution_count": 2,
   "metadata": {},
   "outputs": [
    {
     "ename": "TabError",
     "evalue": "inconsistent use of tabs and spaces in indentation (<string>, line 42)",
     "output_type": "error",
     "traceback": [
      "\u001b[0;36m  File \u001b[0;32m<string>:42\u001b[0;36m\u001b[0m\n\u001b[0;31m    st.write(\"DF Quali\")\u001b[0m\n\u001b[0m                        ^\u001b[0m\n\u001b[0;31mTabError\u001b[0m\u001b[0;31m:\u001b[0m inconsistent use of tabs and spaces in indentation\n"
     ]
    }
   ],
   "source": [
    "import streamlit as st\n",
    "import pandas as pd\n",
    "\n",
    "st.title('Exibição Dataframes')\n",
    "\n",
    "if 'show_cotas' not in st.session_state:\n",
    "    st.session_state.show_cotas = False\n",
    "\n",
    "if 'show_quali' not in st.session_state:\n",
    "    st.session_state.show_quali = False\n",
    "    \n",
    "if 'show_quanti' not in st.session_state:\n",
    "    st.session_state.show_quanti = False\n",
    "\n",
    "col1, col2, col3 = st.columns(3)\n",
    "\n",
    "quali = pd.read_csv('quali.csv')\n",
    "quanti = pd.read_csv('quali.csv')\n",
    "cotas = pd.read_csv('quali.csv')\n",
    "\n",
    "if st.button('Mostrar quali'):\n",
    "    st.session_state.show_quali = True\n",
    "\n",
    "if st.button('Ocultar quali'):\n",
    "    st.session_state.show_quali = False\n",
    "\n",
    "if st.button('Mostrar quanti'):\n",
    "    st.session_state.show_quanti = True\n",
    "\n",
    "if st.button('Ocultar quanti'):\n",
    "    st.session_state.show_quanti = False\n",
    "\n",
    "if st.button('Mostrar cotas'):\n",
    "    st.session_state.show_cotas = True\n",
    "\n",
    "if st.button('Ocultar cotas'):\n",
    "    st.session_state.show_cotas = False\n",
    "\n",
    "# Exibe ou oculta o DataFrame com base na variável de estado\n",
    "if st.session_state.show_quali:\n",
    "\twith col1:\n",
    "    \tst.write(\"DF Quali\")\n",
    "    \tst.dataframe(quali)\n",
    "    \n",
    "if st.session_state.show_quanti:\n",
    "\twith col2:\n",
    "    \tst.write(\"DF Quanti\")\n",
    "    \tst.dataframe(quanti)\n",
    "    \n",
    "if st.session_state.show_cota:\n",
    "\twith col3:\n",
    "    \tst.write(\"DF Cotas\")\n",
    "    \tst.dataframe(cotas)"
   ]
  }
 ],
 "metadata": {
  "kernelspec": {
   "display_name": "Python 3",
   "language": "python",
   "name": "python3"
  },
  "language_info": {
   "codemirror_mode": {
    "name": "ipython",
    "version": 3
   },
   "file_extension": ".py",
   "mimetype": "text/x-python",
   "name": "python",
   "nbconvert_exporter": "python",
   "pygments_lexer": "ipython3",
   "version": "3.12.3"
  },
  "orig_nbformat": 4
 },
 "nbformat": 4,
 "nbformat_minor": 2
}
