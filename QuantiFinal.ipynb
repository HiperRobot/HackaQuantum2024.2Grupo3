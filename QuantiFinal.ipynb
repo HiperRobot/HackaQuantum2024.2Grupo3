{
 "cells": [
  {
   "cell_type": "markdown",
   "metadata": {},
   "source": [
    "# Notebook Final da Parte Quantitativa"
   ]
  },
  {
   "cell_type": "code",
   "execution_count": 1,
   "metadata": {},
   "outputs": [],
   "source": [
    "import dask.dataframe as dd\n",
    "import numpy as np\n",
    "import pandas as pd\n",
    "import sqlalchemy as db"
   ]
  },
  {
   "cell_type": "code",
   "execution_count": null,
   "metadata": {},
   "outputs": [],
   "source": [
    "# Ler o arquivo CSV usando dask\n",
    "df = dd.read_csv('LoteInicial.csv')\n",
    "\n",
    "# Salvar o DataFrame como parquet\n",
    "df.to_parquet('Lote_Inicial_completo.parquet')\n",
    "\n",
    "print(\"227 Parquets gerados na Pasta: arquivo_completo.parquet\")"
   ]
  },
  {
   "cell_type": "code",
   "execution_count": null,
   "metadata": {},
   "outputs": [],
   "source": [
    "n_arquivos = 30\n",
    "\n",
    "# Criar uma lista vazia para armazenar os DataFrames\n",
    "dados_fundos = []\n",
    "\n",
    "\n",
    "for i in range(n_arquivos):\n",
    "\n",
    "    # Carregar o CSV em um DataFrame\n",
    "    df = dd.read_csv(f\"Quanti_202406{i+1:02d}.csv\")\n",
    "\n",
    "    # Adicionar o DataFrame à lista\n",
    "    dados_fundos.append(df)\n",
    "\n",
    "# Concatenar todos os DataFrames em um único DataFrame\n",
    "dados_concatenados = pd.concat(dados_fundos, ignore_index=True)\n",
    "\n",
    "# Salvar o DataFrame concatenado em formato Parquet\n",
    "dados_concatenados.to_parquet(\"dados_concatenados.parquet\", index=False)"
   ]
  },
  {
   "cell_type": "code",
   "execution_count": null,
   "metadata": {},
   "outputs": [],
   "source": [
    "dados_concatenados.columns"
   ]
  }
 ],
 "metadata": {
  "kernelspec": {
   "display_name": "base",
   "language": "python",
   "name": "python3"
  },
  "language_info": {
   "codemirror_mode": {
    "name": "ipython",
    "version": 3
   },
   "file_extension": ".py",
   "mimetype": "text/x-python",
   "name": "python",
   "nbconvert_exporter": "python",
   "pygments_lexer": "ipython3",
   "version": "3.12.4"
  }
 },
 "nbformat": 4,
 "nbformat_minor": 2
}
