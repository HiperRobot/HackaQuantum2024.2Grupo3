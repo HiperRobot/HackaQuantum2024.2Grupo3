{
 "cells": [
  {
   "cell_type": "code",
   "execution_count": 1,
   "metadata": {},
   "outputs": [],
   "source": [
    "import numpy as np\n",
    "import pandas as pd\n",
    "import sqlalchemy as db\n"
   ]
  },
  {
   "cell_type": "code",
   "execution_count": 45,
   "metadata": {},
   "outputs": [],
   "source": [
    "n_arquivos = 30\n",
    "\n",
    "# Criar uma lista vazia para armazenar os DataFrames\n",
    "dados_fundos = []\n",
    "\n",
    "\n",
    "for i in range(n_arquivos):\n",
    "    \n",
    "    # Carregar o CSV em um DataFrame\n",
    "    df = pd.read_csv(f\"Quanti_202406{i+1:02d}.csv\")\n",
    "    \n",
    "    \n",
    "    # Adicionar o DataFrame à lista\n",
    "    dados_fundos.append(df)\n",
    "\n",
    "# Concatenar todos os DataFrames em um único DataFrame\n",
    "dados_concatenados = pd.concat(dados_fundos, ignore_index=True)\n",
    "\n",
    "# Salvar o DataFrame concatenado em formato Parquet\n",
    "dados_concatenados.to_parquet(\"dados_concatenados.parquet\", index=False)"
   ]
  },
  {
   "cell_type": "code",
   "execution_count": 46,
   "metadata": {},
   "outputs": [
    {
     "data": {
      "text/plain": [
       "Index(['ISIN', 'AuM Fund', 'AuM Fund Date', 'AuM Share Class',\n",
       "       'AuM Share Class Date', 'Bid NAV', 'Bid NAV Date', 'Ask NAV',\n",
       "       'Ask NAV Date', 'Valuation NAV', 'Valuation NAV Date',\n",
       "       'Transaction NAV', 'Transaction NAV Date', 'NoS Fund Date',\n",
       "       'NoS Share Class', 'NoS Share Class Date', 'NoS Fund', 'FE Bid',\n",
       "       'FE Bid Date', 'FE Offer', 'FE Offer Date', 'FE NAV', 'FE NAV Date',\n",
       "       'FE Generic NAV', 'FE Generic NAV Date', 'FE AUM Fund Date',\n",
       "       'FE AUM Share Class', 'FE AUM Share Class Date', 'FE NOS Fund',\n",
       "       'FE NOS Fund Date', 'FE NOS Share Class', 'FE NOS Share Class Date',\n",
       "       'Citi Code', 'Fund Code', 'Dynamic Currency', 'FE AUM Fund', 'FE Mid',\n",
       "       'FE Mid Date', 'FE Total Return NAV', 'FE Total Return NAV Date',\n",
       "       'Amount of Shares Redeemed Fund',\n",
       "       'Amount of Shares Redeemed Share Class',\n",
       "       'Amount of Shares Subscribed Fund',\n",
       "       'Amount of Shares Subscribed Share Class',\n",
       "       'Number of Shares Redeemed Fund',\n",
       "       'Number of Shares Redeemed Share Class',\n",
       "       'Number of Shares Subscribed Fund',\n",
       "       'Number of Shares Subscribed Share Class'],\n",
       "      dtype='object')"
      ]
     },
     "execution_count": 46,
     "metadata": {},
     "output_type": "execute_result"
    }
   ],
   "source": [
    "dados_concatenados.columns"
   ]
  },
  {
   "cell_type": "code",
   "execution_count": 47,
   "metadata": {},
   "outputs": [],
   "source": [
    "dados_concatenados = dados_concatenados.dropna(subset=[\"ISIN\"])"
   ]
  },
  {
   "cell_type": "code",
   "execution_count": 43,
   "metadata": {},
   "outputs": [],
   "source": [
    "#Prioritário\n",
    "df1 = dados_concatenados[[\"ISIN\",\"Valuation NAV\",\"Valuation NAV Date\"]].sort_values(by=[\"ISIN\",\"Valuation NAV Date\"])\n",
    "df2 = dados_concatenados[[\"ISIN\",\"FE Bid\",'FE Bid Date']].sort_values(by=[\"ISIN\",\"FE Bid Date\"])\n",
    "df3 = dados_concatenados[[\"ISIN\",\"FE Generic NAV\",\"FE Generic NAV Date\"]].sort_values(by=[\"ISIN\",\"FE Generic NAV Date\"])\n",
    "df4 = dados_concatenados[[\"ISIN\",\"FE NAV\",\"FE NAV Date\"]].sort_values(by=[\"ISIN\",\"FE NAV Date\"])\n",
    "df5 = dados_concatenados[[\"ISIN\",\"Transaction NAV\",\"Transaction NAV Date\"]].sort_values(by=[\"ISIN\",\"Transaction NAV Date\"])\n",
    "fields = [\"Valuation NAV\",\"FE BID\",\"FE Generic NAV\",\"FE NAV\",\"Transaction NAV\"]\n"
   ]
  },
  {
   "cell_type": "code",
   "execution_count": null,
   "metadata": {},
   "outputs": [],
   "source": [
    "#Extras\n",
    "df6 = dados_concatenados[[\"ISIN\",\"AuM Fund\",\"AuM Fund Date\"]].sort_values(by=[\"ISIN\",\"AuM Fund Date\"]),\n",
    "df7 = dados_concatenados[[\"ISIN\",\"AuM Share Class\",\"AuM Share Class Date\"]].sort_values(by=[\"ISIN\",\"AuM Share Class Date\"]),\n",
    "df8 = dados_concatenados[[\"ISIN\",\"Ask NAV\",\"Ask NAV Date\"]].sort_values(by=[\"ISIN\",\"Ask NAV Date\"]),\n",
    "df9 = dados_concatenados[[\"ISIN\",\"Bid NAV\",\"Bid NAV Date\"]].sort_values(by=[\"ISIN\",\"Bid NAV Date\"]),\n",
    "df10 = dados_concatenados[[\"ISIN\",\"NoS Fund\",\"NoS Fund Date\"]].sort_values(by=[\"ISIN\",\"NoS Fund Date\"]),\n",
    "df11 = dados_concatenados[[\"ISIN\",\"NoS Share Class\",\"NoS Share Class Date\"]].sort_values(by=[\"ISIN\",\"NoS Share Class Date\"]),\n",
    "df12 = dados_concatenados[[\"ISIN\",\"FE Offer\",\"FE Offer Date\"]].sort_values(by=[\"ISIN\",\"FE Offer Date\"]),\n",
    "df13 = dados_concatenados[[\"ISIN\",\"FE AUM Fund\",\"FE AUM Fund Date\"]].sort_values(by=[\"ISIN\",\"FE AUM Fund Date\"]),\n",
    "df14 = dados_concatenados[[\"ISIN\",\"FE AUM Share Class\",\"FE AUM Share Class Date\"]].sort_values(by=[\"ISIN\",\"FE AUM Share Class Date\"]),\n",
    "df15 = dados_concatenados[[\"ISIN\",\"FE NOS Fund\",\"FE NOS Fund Date\"]].sort_values(by=[\"ISIN\",\"FE NOS Fund Date\"]),\n",
    "df16 = dados_concatenados[[\"ISIN\",\"FE NOS Share Class\",\"FE NOS Share Class Date\"]].sort_values(by=[\"ISIN\",\"FE NOS Share Class Date\"]),\n",
    "\n",
    "fields = [\"Valuation NAV\",\"FE BID\",\"FE Generic NAV\",\"FE NAV\",\"Transaction NAV\",\"AuM Fund\",\"AuM Share Class\",\"Ask NAV\",\n",
    "          \"Bid NAV\",\"NoS Fund\",\"NoS Share Class\",\"FE Offer\",\"FE AUM Fund\",\"FE AUM Share Class\",\"FE NOS Fund\",\"FE NOS Share Class\"],\n",
    "ldf = [df1,df2,df3,df4,df5,df6,df7,df8,df9,df10,df11,df12,df13,df14,df15,df16]"
   ]
  },
  {
   "cell_type": "code",
   "execution_count": 20,
   "metadata": {},
   "outputs": [],
   "source": [
    "isins = dados_concatenados[\"ISIN\"].unique()"
   ]
  },
  {
   "cell_type": "code",
   "execution_count": 21,
   "metadata": {},
   "outputs": [],
   "source": [
    "ldf = [df1,df2,df3,df4,df5]"
   ]
  },
  {
   "cell_type": "code",
   "execution_count": 22,
   "metadata": {},
   "outputs": [],
   "source": [
    "col_names = [\"ISIN\",\"data_valor_antigo\",\"data_valor_novo\",\"campo\",\"valor antigo\",\"valor novo\" ]\n",
    "new_df = pd.DataFrame(columns=col_names)"
   ]
  },
  {
   "cell_type": "code",
   "execution_count": 25,
   "metadata": {},
   "outputs": [
    {
     "ename": "KeyboardInterrupt",
     "evalue": "",
     "output_type": "error",
     "traceback": [
      "\u001b[1;31m---------------------------------------------------------------------------\u001b[0m",
      "\u001b[1;31mKeyboardInterrupt\u001b[0m                         Traceback (most recent call last)",
      "\u001b[1;32m<ipython-input-25-8f7afbc33d53>\u001b[0m in \u001b[0;36m<module>\u001b[1;34m\u001b[0m\n\u001b[0;32m      4\u001b[0m \u001b[1;32mfor\u001b[0m \u001b[0mdf\u001b[0m \u001b[1;32min\u001b[0m \u001b[0mldf\u001b[0m\u001b[1;33m:\u001b[0m\u001b[1;33m\u001b[0m\u001b[1;33m\u001b[0m\u001b[0m\n\u001b[0;32m      5\u001b[0m     \u001b[1;32mfor\u001b[0m \u001b[0misin\u001b[0m \u001b[1;32min\u001b[0m \u001b[0misins\u001b[0m\u001b[1;33m:\u001b[0m\u001b[1;33m\u001b[0m\u001b[1;33m\u001b[0m\u001b[0m\n\u001b[1;32m----> 6\u001b[1;33m         \u001b[0mactual\u001b[0m \u001b[1;33m=\u001b[0m \u001b[0mdf\u001b[0m\u001b[1;33m[\u001b[0m\u001b[0mdf\u001b[0m\u001b[1;33m[\u001b[0m\u001b[1;34m\"ISIN\"\u001b[0m\u001b[1;33m]\u001b[0m \u001b[1;33m==\u001b[0m \u001b[0misin\u001b[0m\u001b[1;33m]\u001b[0m\u001b[1;33m\u001b[0m\u001b[1;33m\u001b[0m\u001b[0m\n\u001b[0m\u001b[0;32m      7\u001b[0m \u001b[1;33m\u001b[0m\u001b[0m\n\u001b[0;32m      8\u001b[0m         \u001b[1;32mfor\u001b[0m \u001b[0mj\u001b[0m \u001b[1;32min\u001b[0m \u001b[0mrange\u001b[0m\u001b[1;33m(\u001b[0m\u001b[0mlen\u001b[0m\u001b[1;33m(\u001b[0m\u001b[0mactual\u001b[0m\u001b[1;33m)\u001b[0m \u001b[1;33m-\u001b[0m \u001b[1;36m1\u001b[0m\u001b[1;33m)\u001b[0m\u001b[1;33m:\u001b[0m\u001b[1;33m\u001b[0m\u001b[1;33m\u001b[0m\u001b[0m\n",
      "\u001b[1;32mc:\\Users\\leomi\\Anaconda3\\lib\\site-packages\\pandas\\core\\ops\\common.py\u001b[0m in \u001b[0;36mnew_method\u001b[1;34m(self, other)\u001b[0m\n\u001b[0;32m     63\u001b[0m     \u001b[1;32melse\u001b[0m\u001b[1;33m:\u001b[0m\u001b[1;33m\u001b[0m\u001b[1;33m\u001b[0m\u001b[0m\n\u001b[0;32m     64\u001b[0m         \u001b[0mstripped_name\u001b[0m \u001b[1;33m=\u001b[0m \u001b[0mname\u001b[0m\u001b[1;33m.\u001b[0m\u001b[0mremoveprefix\u001b[0m\u001b[1;33m(\u001b[0m\u001b[1;34m\"__\"\u001b[0m\u001b[1;33m)\u001b[0m\u001b[1;33m.\u001b[0m\u001b[0mremovesuffix\u001b[0m\u001b[1;33m(\u001b[0m\u001b[1;34m\"__\"\u001b[0m\u001b[1;33m)\u001b[0m\u001b[1;33m\u001b[0m\u001b[1;33m\u001b[0m\u001b[0m\n\u001b[1;32m---> 65\u001b[1;33m     \u001b[0mis_cmp\u001b[0m \u001b[1;33m=\u001b[0m \u001b[0mstripped_name\u001b[0m \u001b[1;32min\u001b[0m \u001b[1;33m{\u001b[0m\u001b[1;34m\"eq\"\u001b[0m\u001b[1;33m,\u001b[0m \u001b[1;34m\"ne\"\u001b[0m\u001b[1;33m,\u001b[0m \u001b[1;34m\"lt\"\u001b[0m\u001b[1;33m,\u001b[0m \u001b[1;34m\"le\"\u001b[0m\u001b[1;33m,\u001b[0m \u001b[1;34m\"gt\"\u001b[0m\u001b[1;33m,\u001b[0m \u001b[1;34m\"ge\"\u001b[0m\u001b[1;33m}\u001b[0m\u001b[1;33m\u001b[0m\u001b[1;33m\u001b[0m\u001b[0m\n\u001b[0m\u001b[0;32m     66\u001b[0m \u001b[1;33m\u001b[0m\u001b[0m\n\u001b[0;32m     67\u001b[0m     \u001b[1;33m@\u001b[0m\u001b[0mwraps\u001b[0m\u001b[1;33m(\u001b[0m\u001b[0mmethod\u001b[0m\u001b[1;33m)\u001b[0m\u001b[1;33m\u001b[0m\u001b[1;33m\u001b[0m\u001b[0m\n",
      "\u001b[1;32mc:\\Users\\leomi\\Anaconda3\\lib\\site-packages\\pandas\\core\\ops\\__init__.py\u001b[0m in \u001b[0;36mwrapper\u001b[1;34m(self, other)\u001b[0m\n\u001b[0;32m    368\u001b[0m \u001b[1;32mdef\u001b[0m \u001b[0mframe_arith_method_with_reindex\u001b[0m\u001b[1;33m(\u001b[0m\u001b[0mleft\u001b[0m\u001b[1;33m:\u001b[0m \u001b[0mDataFrame\u001b[0m\u001b[1;33m,\u001b[0m \u001b[0mright\u001b[0m\u001b[1;33m:\u001b[0m \u001b[0mDataFrame\u001b[0m\u001b[1;33m,\u001b[0m \u001b[0mop\u001b[0m\u001b[1;33m)\u001b[0m \u001b[1;33m->\u001b[0m \u001b[0mDataFrame\u001b[0m\u001b[1;33m:\u001b[0m\u001b[1;33m\u001b[0m\u001b[1;33m\u001b[0m\u001b[0m\n\u001b[0;32m    369\u001b[0m     \"\"\"\n\u001b[1;32m--> 370\u001b[1;33m     \u001b[0mFor\u001b[0m \u001b[0mDataFrame\u001b[0m\u001b[1;33m-\u001b[0m\u001b[1;32mwith\u001b[0m\u001b[1;33m-\u001b[0m\u001b[0mDataFrame\u001b[0m \u001b[0moperations\u001b[0m \u001b[0mthat\u001b[0m \u001b[0mrequire\u001b[0m \u001b[0mreindexing\u001b[0m\u001b[1;33m,\u001b[0m\u001b[1;33m\u001b[0m\u001b[1;33m\u001b[0m\u001b[0m\n\u001b[0m\u001b[0;32m    371\u001b[0m     \u001b[0moperate\u001b[0m \u001b[0monly\u001b[0m \u001b[0mon\u001b[0m \u001b[0mshared\u001b[0m \u001b[0mcolumns\u001b[0m\u001b[1;33m,\u001b[0m \u001b[0mthen\u001b[0m \u001b[0mreindex\u001b[0m\u001b[1;33m.\u001b[0m\u001b[1;33m\u001b[0m\u001b[1;33m\u001b[0m\u001b[0m\n\u001b[0;32m    372\u001b[0m \u001b[1;33m\u001b[0m\u001b[0m\n",
      "\u001b[1;32mc:\\Users\\leomi\\Anaconda3\\lib\\site-packages\\pandas\\core\\ops\\array_ops.py\u001b[0m in \u001b[0;36mcomparison_op\u001b[1;34m(left, right, op)\u001b[0m\n\u001b[0;32m    242\u001b[0m     \u001b[0msuppressed\u001b[0m \u001b[1;33m(\u001b[0m\u001b[1;32mwith\u001b[0m \u001b[0mnp\u001b[0m\u001b[1;33m.\u001b[0m\u001b[0merrstate\u001b[0m\u001b[1;33m(\u001b[0m\u001b[0mall\u001b[0m\u001b[1;33m=\u001b[0m\u001b[1;34m\"ignore\"\u001b[0m\u001b[1;33m)\u001b[0m\u001b[1;33m)\u001b[0m \u001b[1;32mif\u001b[0m \u001b[0mneeded\u001b[0m\u001b[1;33m.\u001b[0m\u001b[1;33m\u001b[0m\u001b[1;33m\u001b[0m\u001b[0m\n\u001b[0;32m    243\u001b[0m \u001b[1;33m\u001b[0m\u001b[0m\n\u001b[1;32m--> 244\u001b[1;33m     \u001b[0mParameters\u001b[0m\u001b[1;33m\u001b[0m\u001b[1;33m\u001b[0m\u001b[0m\n\u001b[0m\u001b[0;32m    245\u001b[0m     \u001b[1;33m-\u001b[0m\u001b[1;33m-\u001b[0m\u001b[1;33m-\u001b[0m\u001b[1;33m-\u001b[0m\u001b[1;33m-\u001b[0m\u001b[1;33m-\u001b[0m\u001b[1;33m-\u001b[0m\u001b[1;33m-\u001b[0m\u001b[1;33m-\u001b[0m\u001b[1;33m-\u001b[0m\u001b[1;33m\u001b[0m\u001b[1;33m\u001b[0m\u001b[0m\n\u001b[0;32m    246\u001b[0m     \u001b[0mleft\u001b[0m \u001b[1;33m:\u001b[0m \u001b[0mnp\u001b[0m\u001b[1;33m.\u001b[0m\u001b[0mndarray\u001b[0m \u001b[1;32mor\u001b[0m \u001b[0mExtensionArray\u001b[0m\u001b[1;33m\u001b[0m\u001b[1;33m\u001b[0m\u001b[0m\n",
      "\u001b[1;32mc:\\Users\\leomi\\Anaconda3\\lib\\site-packages\\pandas\\core\\ops\\array_ops.py\u001b[0m in \u001b[0;36mcomp_method_OBJECT_ARRAY\u001b[1;34m(op, x, y)\u001b[0m\n\u001b[0;32m     55\u001b[0m )\n\u001b[0;32m     56\u001b[0m \u001b[1;33m\u001b[0m\u001b[0m\n\u001b[1;32m---> 57\u001b[1;33m \u001b[1;32mfrom\u001b[0m \u001b[0mpandas\u001b[0m\u001b[1;33m.\u001b[0m\u001b[0mcore\u001b[0m\u001b[1;33m.\u001b[0m\u001b[0mcomputation\u001b[0m \u001b[1;32mimport\u001b[0m \u001b[0mexpressions\u001b[0m\u001b[1;33m\u001b[0m\u001b[1;33m\u001b[0m\u001b[0m\n\u001b[0m\u001b[0;32m     58\u001b[0m \u001b[1;32mfrom\u001b[0m \u001b[0mpandas\u001b[0m\u001b[1;33m.\u001b[0m\u001b[0mcore\u001b[0m\u001b[1;33m.\u001b[0m\u001b[0mconstruction\u001b[0m \u001b[1;32mimport\u001b[0m \u001b[0mensure_wrapped_if_datetimelike\u001b[0m\u001b[1;33m\u001b[0m\u001b[1;33m\u001b[0m\u001b[0m\n\u001b[0;32m     59\u001b[0m from pandas.core.ops import (\n",
      "\u001b[1;31mKeyboardInterrupt\u001b[0m: "
     ]
    }
   ],
   "source": [
    "# Inicializa a lista de DataFrames e outras variáveis \n",
    "campo = 0\n",
    "\n",
    "for df in ldf:  \n",
    "    for isin in isins:  \n",
    "        actual = df[df[\"ISIN\"] == isin] \n",
    "\n",
    "        for j in range(len(actual) - 1): \n",
    "            row = actual.iloc[j]  \n",
    "            next_row = actual.iloc[j + 1]         \n",
    "            if row[1] != next_row[1]: \n",
    "                new_df = new_df.append({\n",
    "                    \"ISIN\": row[\"ISIN\"],\n",
    "                    \"campo\": fields[campo],\n",
    "                    \"data_valor_antigo\": row[2],  \n",
    "                    \"data_valor_novo\": next_row[2],\n",
    "                    \"valor_antigo\": row[1], \n",
    "                    \"valor_novo\": next_row[1]\n",
    "                }, ignore_index=True)\n",
    "\n",
    "    campo += 1  \n",
    "\n",
    "new_df"
   ]
  },
  {
   "cell_type": "code",
   "execution_count": 55,
   "metadata": {},
   "outputs": [
    {
     "ename": "KeyError",
     "evalue": "False",
     "output_type": "error",
     "traceback": [
      "\u001b[1;31m---------------------------------------------------------------------------\u001b[0m",
      "\u001b[1;31mKeyError\u001b[0m                                  Traceback (most recent call last)",
      "\u001b[1;32mc:\\Users\\leomi\\Anaconda3\\lib\\site-packages\\pandas\\core\\indexes\\base.py\u001b[0m in \u001b[0;36mget_loc\u001b[1;34m(self, key, method, tolerance)\u001b[0m\n\u001b[0;32m   2894\u001b[0m             \u001b[0mOnly\u001b[0m \u001b[1;32mreturn\u001b[0m \u001b[0mvalues\u001b[0m \u001b[1;32mfrom\u001b[0m \u001b[0mspecified\u001b[0m \u001b[0mlevel\u001b[0m \u001b[1;33m(\u001b[0m\u001b[1;32mfor\u001b[0m \u001b[0mMultiIndex\u001b[0m\u001b[1;33m)\u001b[0m\u001b[1;33m.\u001b[0m\u001b[1;33m\u001b[0m\u001b[1;33m\u001b[0m\u001b[0m\n\u001b[1;32m-> 2895\u001b[1;33m             \u001b[0mIf\u001b[0m \u001b[0mint\u001b[0m\u001b[1;33m,\u001b[0m \u001b[0mgets\u001b[0m \u001b[0mthe\u001b[0m \u001b[0mlevel\u001b[0m \u001b[0mby\u001b[0m \u001b[0minteger\u001b[0m \u001b[0mposition\u001b[0m\u001b[1;33m,\u001b[0m \u001b[1;32melse\u001b[0m \u001b[0mby\u001b[0m \u001b[0mlevel\u001b[0m \u001b[0mname\u001b[0m\u001b[1;33m.\u001b[0m\u001b[1;33m\u001b[0m\u001b[1;33m\u001b[0m\u001b[0m\n\u001b[0m\u001b[0;32m   2896\u001b[0m \u001b[1;33m\u001b[0m\u001b[0m\n",
      "\u001b[1;32mc:\\Users\\leomi\\Anaconda3\\lib\\site-packages\\pandas\\_libs\\index.pyx\u001b[0m in \u001b[0;36mpandas._libs.index.IndexEngine.get_loc\u001b[1;34m()\u001b[0m\n",
      "\u001b[1;32mc:\\Users\\leomi\\Anaconda3\\lib\\site-packages\\pandas\\_libs\\index.pyx\u001b[0m in \u001b[0;36mpandas._libs.index.IndexEngine.get_loc\u001b[1;34m()\u001b[0m\n",
      "\u001b[1;32mpandas\\_libs\\hashtable_class_helper.pxi\u001b[0m in \u001b[0;36mpandas._libs.hashtable.PyObjectHashTable.get_item\u001b[1;34m()\u001b[0m\n",
      "\u001b[1;32mpandas\\_libs\\hashtable_class_helper.pxi\u001b[0m in \u001b[0;36mpandas._libs.hashtable.PyObjectHashTable.get_item\u001b[1;34m()\u001b[0m\n",
      "\u001b[1;31mKeyError\u001b[0m: False",
      "\nThe above exception was the direct cause of the following exception:\n",
      "\u001b[1;31mKeyError\u001b[0m                                  Traceback (most recent call last)",
      "\u001b[1;32m<ipython-input-55-3077882f2433>\u001b[0m in \u001b[0;36m<module>\u001b[1;34m\u001b[0m\n\u001b[0;32m      1\u001b[0m \u001b[0misins\u001b[0m\u001b[1;33m\u001b[0m\u001b[1;33m\u001b[0m\u001b[0m\n\u001b[1;32m----> 2\u001b[1;33m \u001b[0mdados_concatenados\u001b[0m\u001b[1;33m[\u001b[0m\u001b[1;34m\"ISIN\"\u001b[0m\u001b[1;33m==\u001b[0m\u001b[0misins\u001b[0m\u001b[1;33m[\u001b[0m\u001b[1;36m0\u001b[0m\u001b[1;33m]\u001b[0m\u001b[1;33m]\u001b[0m\u001b[1;33m\u001b[0m\u001b[1;33m\u001b[0m\u001b[0m\n\u001b[0m",
      "\u001b[1;32mc:\\Users\\leomi\\Anaconda3\\lib\\site-packages\\pandas\\core\\frame.py\u001b[0m in \u001b[0;36m__getitem__\u001b[1;34m(self, key)\u001b[0m\n\u001b[0;32m   2900\u001b[0m     def to_orc(\n\u001b[0;32m   2901\u001b[0m         \u001b[0mself\u001b[0m\u001b[1;33m,\u001b[0m\u001b[1;33m\u001b[0m\u001b[1;33m\u001b[0m\u001b[0m\n\u001b[1;32m-> 2902\u001b[1;33m         \u001b[0mpath\u001b[0m\u001b[1;33m:\u001b[0m \u001b[0mFilePath\u001b[0m \u001b[1;33m|\u001b[0m \u001b[0mWriteBuffer\u001b[0m\u001b[1;33m[\u001b[0m\u001b[0mbytes\u001b[0m\u001b[1;33m]\u001b[0m \u001b[1;33m|\u001b[0m \u001b[1;32mNone\u001b[0m \u001b[1;33m=\u001b[0m \u001b[1;32mNone\u001b[0m\u001b[1;33m,\u001b[0m\u001b[1;33m\u001b[0m\u001b[1;33m\u001b[0m\u001b[0m\n\u001b[0m\u001b[0;32m   2903\u001b[0m         \u001b[1;33m*\u001b[0m\u001b[1;33m,\u001b[0m\u001b[1;33m\u001b[0m\u001b[1;33m\u001b[0m\u001b[0m\n\u001b[0;32m   2904\u001b[0m         \u001b[0mengine\u001b[0m\u001b[1;33m:\u001b[0m \u001b[0mLiteral\u001b[0m\u001b[1;33m[\u001b[0m\u001b[1;34m\"pyarrow\"\u001b[0m\u001b[1;33m]\u001b[0m \u001b[1;33m=\u001b[0m \u001b[1;34m\"pyarrow\"\u001b[0m\u001b[1;33m,\u001b[0m\u001b[1;33m\u001b[0m\u001b[1;33m\u001b[0m\u001b[0m\n",
      "\u001b[1;32mc:\\Users\\leomi\\Anaconda3\\lib\\site-packages\\pandas\\core\\indexes\\base.py\u001b[0m in \u001b[0;36mget_loc\u001b[1;34m(self, key, method, tolerance)\u001b[0m\n\u001b[0;32m   2895\u001b[0m             \u001b[0mIf\u001b[0m \u001b[0mint\u001b[0m\u001b[1;33m,\u001b[0m \u001b[0mgets\u001b[0m \u001b[0mthe\u001b[0m \u001b[0mlevel\u001b[0m \u001b[0mby\u001b[0m \u001b[0minteger\u001b[0m \u001b[0mposition\u001b[0m\u001b[1;33m,\u001b[0m \u001b[1;32melse\u001b[0m \u001b[0mby\u001b[0m \u001b[0mlevel\u001b[0m \u001b[0mname\u001b[0m\u001b[1;33m.\u001b[0m\u001b[1;33m\u001b[0m\u001b[1;33m\u001b[0m\u001b[0m\n\u001b[0;32m   2896\u001b[0m \u001b[1;33m\u001b[0m\u001b[0m\n\u001b[1;32m-> 2897\u001b[1;33m         \u001b[0mReturns\u001b[0m\u001b[1;33m\u001b[0m\u001b[1;33m\u001b[0m\u001b[0m\n\u001b[0m\u001b[0;32m   2898\u001b[0m         \u001b[1;33m-\u001b[0m\u001b[1;33m-\u001b[0m\u001b[1;33m-\u001b[0m\u001b[1;33m-\u001b[0m\u001b[1;33m-\u001b[0m\u001b[1;33m-\u001b[0m\u001b[1;33m-\u001b[0m\u001b[1;33m\u001b[0m\u001b[1;33m\u001b[0m\u001b[0m\n\u001b[0;32m   2899\u001b[0m         \u001b[0mIndex\u001b[0m\u001b[1;33m\u001b[0m\u001b[1;33m\u001b[0m\u001b[0m\n",
      "\u001b[1;31mKeyError\u001b[0m: False"
     ]
    }
   ],
   "source": [
    "isins\n",
    "dados_concatenados[\"ISIN\"==isins[0]]"
   ]
  },
  {
   "cell_type": "code",
   "execution_count": 53,
   "metadata": {},
   "outputs": [
    {
     "ename": "KeyError",
     "evalue": "False",
     "output_type": "error",
     "traceback": [
      "\u001b[1;31m---------------------------------------------------------------------------\u001b[0m",
      "\u001b[1;31mKeyError\u001b[0m                                  Traceback (most recent call last)",
      "\u001b[1;32mc:\\Users\\leomi\\Anaconda3\\lib\\site-packages\\pandas\\core\\indexes\\base.py\u001b[0m in \u001b[0;36mget_loc\u001b[1;34m(self, key, method, tolerance)\u001b[0m\n\u001b[0;32m   2894\u001b[0m             \u001b[0mOnly\u001b[0m \u001b[1;32mreturn\u001b[0m \u001b[0mvalues\u001b[0m \u001b[1;32mfrom\u001b[0m \u001b[0mspecified\u001b[0m \u001b[0mlevel\u001b[0m \u001b[1;33m(\u001b[0m\u001b[1;32mfor\u001b[0m \u001b[0mMultiIndex\u001b[0m\u001b[1;33m)\u001b[0m\u001b[1;33m.\u001b[0m\u001b[1;33m\u001b[0m\u001b[1;33m\u001b[0m\u001b[0m\n\u001b[1;32m-> 2895\u001b[1;33m             \u001b[0mIf\u001b[0m \u001b[0mint\u001b[0m\u001b[1;33m,\u001b[0m \u001b[0mgets\u001b[0m \u001b[0mthe\u001b[0m \u001b[0mlevel\u001b[0m \u001b[0mby\u001b[0m \u001b[0minteger\u001b[0m \u001b[0mposition\u001b[0m\u001b[1;33m,\u001b[0m \u001b[1;32melse\u001b[0m \u001b[0mby\u001b[0m \u001b[0mlevel\u001b[0m \u001b[0mname\u001b[0m\u001b[1;33m.\u001b[0m\u001b[1;33m\u001b[0m\u001b[1;33m\u001b[0m\u001b[0m\n\u001b[0m\u001b[0;32m   2896\u001b[0m \u001b[1;33m\u001b[0m\u001b[0m\n",
      "\u001b[1;32mc:\\Users\\leomi\\Anaconda3\\lib\\site-packages\\pandas\\_libs\\index.pyx\u001b[0m in \u001b[0;36mpandas._libs.index.IndexEngine.get_loc\u001b[1;34m()\u001b[0m\n",
      "\u001b[1;32mc:\\Users\\leomi\\Anaconda3\\lib\\site-packages\\pandas\\_libs\\index.pyx\u001b[0m in \u001b[0;36mpandas._libs.index.IndexEngine.get_loc\u001b[1;34m()\u001b[0m\n",
      "\u001b[1;32mpandas\\_libs\\hashtable_class_helper.pxi\u001b[0m in \u001b[0;36mpandas._libs.hashtable.PyObjectHashTable.get_item\u001b[1;34m()\u001b[0m\n",
      "\u001b[1;32mpandas\\_libs\\hashtable_class_helper.pxi\u001b[0m in \u001b[0;36mpandas._libs.hashtable.PyObjectHashTable.get_item\u001b[1;34m()\u001b[0m\n",
      "\u001b[1;31mKeyError\u001b[0m: False",
      "\nThe above exception was the direct cause of the following exception:\n",
      "\u001b[1;31mKeyError\u001b[0m                                  Traceback (most recent call last)",
      "\u001b[1;32m<ipython-input-53-44dd91167183>\u001b[0m in \u001b[0;36m<module>\u001b[1;34m\u001b[0m\n\u001b[0;32m      1\u001b[0m \u001b[1;32mfor\u001b[0m \u001b[0misin\u001b[0m \u001b[1;32min\u001b[0m \u001b[0misins\u001b[0m\u001b[1;33m:\u001b[0m\u001b[1;33m\u001b[0m\u001b[1;33m\u001b[0m\u001b[0m\n\u001b[1;32m----> 2\u001b[1;33m     \u001b[0md_copy\u001b[0m \u001b[1;33m=\u001b[0m \u001b[0mdados_concatenados\u001b[0m\u001b[1;33m[\u001b[0m\u001b[0mdados_concatenados\u001b[0m\u001b[1;33m[\u001b[0m\u001b[1;34m\"ISIN\"\u001b[0m\u001b[1;33m==\u001b[0m\u001b[0misin\u001b[0m\u001b[1;33m]\u001b[0m\u001b[1;33m]\u001b[0m\u001b[1;33m\u001b[0m\u001b[1;33m\u001b[0m\u001b[0m\n\u001b[0m\u001b[0;32m      3\u001b[0m     \u001b[1;32mfor\u001b[0m \u001b[0mcampo\u001b[0m \u001b[1;32min\u001b[0m \u001b[0mfields\u001b[0m\u001b[1;33m:\u001b[0m\u001b[1;33m\u001b[0m\u001b[1;33m\u001b[0m\u001b[0m\n\u001b[0;32m      4\u001b[0m         \u001b[0md_copy\u001b[0m \u001b[1;33m=\u001b[0m \u001b[0md_copy\u001b[0m\u001b[1;33m[\u001b[0m\u001b[0md_copy\u001b[0m\u001b[1;33m[\u001b[0m\u001b[0mcampo\u001b[0m\u001b[1;33m]\u001b[0m\u001b[1;33m]\u001b[0m\u001b[1;33m.\u001b[0m\u001b[0msort_values\u001b[0m\u001b[1;33m(\u001b[0m\u001b[0mby\u001b[0m\u001b[1;33m=\u001b[0m\u001b[1;33m[\u001b[0m\u001b[0mstr\u001b[0m\u001b[1;33m(\u001b[0m\u001b[0mcampo\u001b[0m\u001b[1;33m)\u001b[0m\u001b[1;33m+\u001b[0m\u001b[1;34m\" Date\"\u001b[0m\u001b[1;33m]\u001b[0m\u001b[1;33m)\u001b[0m\u001b[1;33m\u001b[0m\u001b[1;33m\u001b[0m\u001b[0m\n\u001b[0;32m      5\u001b[0m         \u001b[1;31m# Comparar os valores da coluna com o valor da próxima linha\u001b[0m\u001b[1;33m\u001b[0m\u001b[1;33m\u001b[0m\u001b[1;33m\u001b[0m\u001b[0m\n",
      "\u001b[1;32mc:\\Users\\leomi\\Anaconda3\\lib\\site-packages\\pandas\\core\\frame.py\u001b[0m in \u001b[0;36m__getitem__\u001b[1;34m(self, key)\u001b[0m\n\u001b[0;32m   2900\u001b[0m     def to_orc(\n\u001b[0;32m   2901\u001b[0m         \u001b[0mself\u001b[0m\u001b[1;33m,\u001b[0m\u001b[1;33m\u001b[0m\u001b[1;33m\u001b[0m\u001b[0m\n\u001b[1;32m-> 2902\u001b[1;33m         \u001b[0mpath\u001b[0m\u001b[1;33m:\u001b[0m \u001b[0mFilePath\u001b[0m \u001b[1;33m|\u001b[0m \u001b[0mWriteBuffer\u001b[0m\u001b[1;33m[\u001b[0m\u001b[0mbytes\u001b[0m\u001b[1;33m]\u001b[0m \u001b[1;33m|\u001b[0m \u001b[1;32mNone\u001b[0m \u001b[1;33m=\u001b[0m \u001b[1;32mNone\u001b[0m\u001b[1;33m,\u001b[0m\u001b[1;33m\u001b[0m\u001b[1;33m\u001b[0m\u001b[0m\n\u001b[0m\u001b[0;32m   2903\u001b[0m         \u001b[1;33m*\u001b[0m\u001b[1;33m,\u001b[0m\u001b[1;33m\u001b[0m\u001b[1;33m\u001b[0m\u001b[0m\n\u001b[0;32m   2904\u001b[0m         \u001b[0mengine\u001b[0m\u001b[1;33m:\u001b[0m \u001b[0mLiteral\u001b[0m\u001b[1;33m[\u001b[0m\u001b[1;34m\"pyarrow\"\u001b[0m\u001b[1;33m]\u001b[0m \u001b[1;33m=\u001b[0m \u001b[1;34m\"pyarrow\"\u001b[0m\u001b[1;33m,\u001b[0m\u001b[1;33m\u001b[0m\u001b[1;33m\u001b[0m\u001b[0m\n",
      "\u001b[1;32mc:\\Users\\leomi\\Anaconda3\\lib\\site-packages\\pandas\\core\\indexes\\base.py\u001b[0m in \u001b[0;36mget_loc\u001b[1;34m(self, key, method, tolerance)\u001b[0m\n\u001b[0;32m   2895\u001b[0m             \u001b[0mIf\u001b[0m \u001b[0mint\u001b[0m\u001b[1;33m,\u001b[0m \u001b[0mgets\u001b[0m \u001b[0mthe\u001b[0m \u001b[0mlevel\u001b[0m \u001b[0mby\u001b[0m \u001b[0minteger\u001b[0m \u001b[0mposition\u001b[0m\u001b[1;33m,\u001b[0m \u001b[1;32melse\u001b[0m \u001b[0mby\u001b[0m \u001b[0mlevel\u001b[0m \u001b[0mname\u001b[0m\u001b[1;33m.\u001b[0m\u001b[1;33m\u001b[0m\u001b[1;33m\u001b[0m\u001b[0m\n\u001b[0;32m   2896\u001b[0m \u001b[1;33m\u001b[0m\u001b[0m\n\u001b[1;32m-> 2897\u001b[1;33m         \u001b[0mReturns\u001b[0m\u001b[1;33m\u001b[0m\u001b[1;33m\u001b[0m\u001b[0m\n\u001b[0m\u001b[0;32m   2898\u001b[0m         \u001b[1;33m-\u001b[0m\u001b[1;33m-\u001b[0m\u001b[1;33m-\u001b[0m\u001b[1;33m-\u001b[0m\u001b[1;33m-\u001b[0m\u001b[1;33m-\u001b[0m\u001b[1;33m-\u001b[0m\u001b[1;33m\u001b[0m\u001b[1;33m\u001b[0m\u001b[0m\n\u001b[0;32m   2899\u001b[0m         \u001b[0mIndex\u001b[0m\u001b[1;33m\u001b[0m\u001b[1;33m\u001b[0m\u001b[0m\n",
      "\u001b[1;31mKeyError\u001b[0m: False"
     ]
    }
   ],
   "source": [
    "for isin in isins:\n",
    "    d_copy = dados_concatenados[\"ISIN\"==isin]\n",
    "    for campo in fields:\n",
    "        d_copy = d_copy[d_copy[campo]].sort_values(by=[str(campo)+\" Date\"])\n",
    "        # Comparar os valores da coluna com o valor da próxima linha\n",
    "        d_copy['diferente_da_proxima'] = d_copy[campo] != d_copy[campo].shift(-1)\n",
    "        print(d_copy)\n",
    "        "
   ]
  },
  {
   "cell_type": "code",
   "execution_count": null,
   "metadata": {},
   "outputs": [],
   "source": [
    "server = 'localhost'\n",
    "database = 'master'\n",
    "db.create_engine(f'mssql+pyodbc://@{server}/{database}?driver=ODBC+Driver+17+for+SQL+Server;Trusted_Connection=yes;')"
   ]
  },
  {
   "cell_type": "code",
   "execution_count": null,
   "metadata": {},
   "outputs": [],
   "source": []
  },
  {
   "cell_type": "code",
   "execution_count": null,
   "metadata": {},
   "outputs": [],
   "source": []
  },
  {
   "cell_type": "code",
   "execution_count": null,
   "metadata": {},
   "outputs": [],
   "source": []
  },
  {
   "cell_type": "code",
   "execution_count": null,
   "metadata": {},
   "outputs": [],
   "source": []
  },
  {
   "cell_type": "code",
   "execution_count": null,
   "metadata": {},
   "outputs": [],
   "source": []
  },
  {
   "cell_type": "code",
   "execution_count": null,
   "metadata": {},
   "outputs": [],
   "source": []
  },
  {
   "cell_type": "code",
   "execution_count": null,
   "metadata": {},
   "outputs": [],
   "source": [
    "# Calcular as mudanças diárias para a coluna 'valor_ativo', por exemplo\n",
    "dados_concatenados['mudanca_valor_ativo'] = dados_concatenados.groupby('ISIN')['valor_ativo'].diff()\n",
    "\n",
    "# Filtrar apenas as linhas onde houveram mudanças\n",
    "mudancas_diarias = dados_concatenados[dados_concatenados['mudanca_valor_ativo'].notnull()]\n",
    "\n",
    "# Mostrar as primeiras linhas do resultado\n",
    "print(mudancas_diarias.head())\n",
    "\n",
    "# Se desejar salvar as mudanças em um novo arquivo CSV para análise\n",
    "mudancas_diarias.to_csv('mudancas_diarias_fundos.csv', index=False)"
   ]
  }
 ],
 "metadata": {
  "kernelspec": {
   "display_name": "base",
   "language": "python",
   "name": "python3"
  },
  "language_info": {
   "codemirror_mode": {
    "name": "ipython",
    "version": 3
   },
   "file_extension": ".py",
   "mimetype": "text/x-python",
   "name": "python",
   "nbconvert_exporter": "python",
   "pygments_lexer": "ipython3",
   "version": "3.12.4"
  }
 },
 "nbformat": 4,
 "nbformat_minor": 4
}
