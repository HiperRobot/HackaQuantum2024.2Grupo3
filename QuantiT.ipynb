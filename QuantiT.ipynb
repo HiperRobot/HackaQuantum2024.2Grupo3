{
  "cells": [
    {
      "cell_type": "code",
      "execution_count": 42,
      "metadata": {
        "id": "LVAf_memvtK1"
      },
      "outputs": [],
      "source": [
        "import numpy as np\n",
        "import pandas as pd\n",
        "import matplotlib.pyplot as plt\n"
      ]
    },
    {
      "cell_type": "code",
      "execution_count": 43,
      "metadata": {},
      "outputs": [
        {
          "name": "stdout",
          "output_type": "stream",
          "text": [
            "primeiras linhas do dataframe\n"
          ]
        }
      ],
      "source": [
        "print(\"primeiras linhas do dataframe\")"
      ]
    },
    {
      "cell_type": "code",
      "execution_count": 44,
      "metadata": {},
      "outputs": [],
      "source": [
        "# resultados = []\n",
        "\n",
        "\n",
        "# chunksize = 10 ** 6\n",
        "# for chunk in pd.read_csv('LoteInicial.csv', chunksize=chunksize):\n",
        "#     print(chunk.head())\n",
        "#     break"
      ]
    },
    {
      "cell_type": "code",
      "execution_count": 45,
      "metadata": {},
      "outputs": [
        {
          "name": "stdout",
          "output_type": "stream",
          "text": [
            "           ISIN Fund Group Name Dynamic Currency General Reference Date  \\\n",
            "0  LU1883342021          Amundi              GBP             2022-07-17   \n",
            "1  LU1883342021          Amundi              GBP             2022-07-17   \n",
            "2  LU1883342021          Amundi              GBP             2022-07-17   \n",
            "3  LU1883342021          Amundi              GBP             2022-07-17   \n",
            "4  LU1883342021          Amundi              GBP             2022-07-17   \n",
            "5  LU1883342021          Amundi              GBP             2022-07-17   \n",
            "\n",
            "             Dynamic Data Type  Dynamic Value  \n",
            "0                       FE Bid          64.27  \n",
            "1          FE Total Return Bid          64.27  \n",
            "2    FE Gross Total Return Bid          64.27  \n",
            "3                     FE Offer          64.27  \n",
            "4        FE Total Return Offer          64.27  \n",
            "5  FE Gross Total Return Offer          64.27  \n"
          ]
        }
      ],
      "source": [
        "# Definindo o tamanho do chunk para 5 linhas\n",
        "chunksize = 6\n",
        "reader = pd.read_csv('LoteInicial.csv', chunksize=chunksize)\n",
        "\n",
        "# Pegando o primeiro chunk\n",
        "df_head = next(reader)\n",
        "\n",
        "# Exibindo o chunk\n",
        "print(df_head)"
      ]
    },
    {
      "cell_type": "code",
      "execution_count": null,
      "metadata": {},
      "outputs": [],
      "source": [
        "\n"
      ]
    }
  ],
  "metadata": {
    "colab": {
      "provenance": []
    },
    "kernelspec": {
      "display_name": "base",
      "language": "python",
      "name": "python3"
    },
    "language_info": {
      "codemirror_mode": {
        "name": "ipython",
        "version": 3
      },
      "file_extension": ".py",
      "mimetype": "text/x-python",
      "name": "python",
      "nbconvert_exporter": "python",
      "pygments_lexer": "ipython3",
      "version": "3.12.4"
    }
  },
  "nbformat": 4,
  "nbformat_minor": 0
}
