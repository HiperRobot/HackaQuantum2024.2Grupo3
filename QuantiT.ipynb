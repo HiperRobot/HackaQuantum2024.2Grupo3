{
  "cells": [
    {
      "cell_type": "code",
      "execution_count": 1,
      "metadata": {
        "id": "LVAf_memvtK1"
      },
      "outputs": [],
      "source": [
        "import numpy as np\n",
        "import pandas as pd\n",
        "import matplotlib.pyplot as plt\n"
      ]
    },
    {
      "cell_type": "code",
      "execution_count": 2,
      "metadata": {},
      "outputs": [
        {
          "name": "stdout",
          "output_type": "stream",
          "text": [
            "primeiras linhas do dataframe\n"
          ]
        }
      ],
      "source": [
        "print(\"primeiras linhas do dataframe\")"
      ]
    },
    {
      "cell_type": "code",
      "execution_count": 3,
      "metadata": {
        "id": "Uyc_ba5XxrJZ"
      },
      "outputs": [
        {
          "name": "stdout",
          "output_type": "stream",
          "text": [
            "           ISIN Fund Group Name Dynamic Currency General Reference Date  \\\n",
            "0  LU1883342021          Amundi              GBP             2022-07-17   \n",
            "\n",
            "  Dynamic Data Type  Dynamic Value  \n",
            "0            FE Bid          64.27  \n"
          ]
        }
      ],
      "source": [
        "df = pd.read_csv('LoteInicial.csv')\n",
        "\n",
        "print(df.head(1))"
      ]
    }
  ],
  "metadata": {
    "colab": {
      "provenance": []
    },
    "kernelspec": {
      "display_name": "base",
      "language": "python",
      "name": "python3"
    },
    "language_info": {
      "codemirror_mode": {
        "name": "ipython",
        "version": 3
      },
      "file_extension": ".py",
      "mimetype": "text/x-python",
      "name": "python",
      "nbconvert_exporter": "python",
      "pygments_lexer": "ipython3",
      "version": "3.12.4"
    }
  },
  "nbformat": 4,
  "nbformat_minor": 0
}
